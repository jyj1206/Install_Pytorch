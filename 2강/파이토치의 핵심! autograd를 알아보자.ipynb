{
 "cells": [
  {
   "cell_type": "code",
   "execution_count": 1,
   "id": "a342ee2e",
   "metadata": {},
   "outputs": [],
   "source": [
    "import torch"
   ]
  },
  {
   "cell_type": "code",
   "execution_count": 2,
   "id": "4f19dd8c",
   "metadata": {},
   "outputs": [
    {
     "name": "stdout",
     "output_type": "stream",
     "text": [
      "tensor([1.], requires_grad=True)\n"
     ]
    }
   ],
   "source": [
    "x = torch.tensor([1.], requires_grad=True) # float 이여야해서 1.\n",
    "print(x)"
   ]
  },
  {
   "cell_type": "code",
   "execution_count": 3,
   "id": "312de047",
   "metadata": {},
   "outputs": [
    {
     "name": "stdout",
     "output_type": "stream",
     "text": [
      "tensor([1.])\n",
      "False\n",
      "tensor([1.], requires_grad=True)\n",
      "True\n"
     ]
    }
   ],
   "source": [
    "x = torch.tensor([1.])\n",
    "print(x)\n",
    "print(x.requires_grad)\n",
    "\n",
    "x.requires_grad=True\n",
    "print(x)\n",
    "print(x.requires_grad)"
   ]
  },
  {
   "cell_type": "code",
   "execution_count": 4,
   "id": "434f8f81",
   "metadata": {},
   "outputs": [
    {
     "name": "stdout",
     "output_type": "stream",
     "text": [
      "tensor([1.], grad_fn=<PowBackward0>)\n",
      "None\n",
      "tensor([2.])\n"
     ]
    }
   ],
   "source": [
    "x = torch.tensor([1.], requires_grad=True)\n",
    "y = x ** 2\n",
    "print(y)\n",
    "\n",
    "print(x.grad)\n",
    "y.backward() # requires_grad가 True인 변수에 대해 미분\n",
    "print(x.grad) # y = x ** 2을 미분한 2x의 x 값에 1을 대입한 gradient 값"
   ]
  },
  {
   "cell_type": "code",
   "execution_count": 5,
   "id": "bea9bc89",
   "metadata": {},
   "outputs": [
    {
     "name": "stdout",
     "output_type": "stream",
     "text": [
      "tensor([1.], grad_fn=<PowBackward0>)\n",
      "tensor([3.], grad_fn=<MulBackward0>)\n",
      "tensor([6.])\n",
      "tensor([3.])\n"
     ]
    }
   ],
   "source": [
    "x = torch.tensor([1.], requires_grad=True)\n",
    "y = x ** 2\n",
    "print(y)\n",
    "y.retain_grad() # y.grad도 알 수 있음\n",
    "\n",
    "z = 3 * y\n",
    "print(z)\n",
    "\n",
    "z.backward()\n",
    "print(x.grad) # chain rull로 알아냄 (중요)\n",
    "print(y.grad)"
   ]
  },
  {
   "cell_type": "code",
   "execution_count": 6,
   "id": "dba352cc",
   "metadata": {},
   "outputs": [
    {
     "name": "stdout",
     "output_type": "stream",
     "text": [
      "tensor([2.])\n"
     ]
    }
   ],
   "source": [
    "x = torch.tensor([1.0], requires_grad=True)\n",
    "y = x ** 2\n",
    "z = 3 * y\n",
    "\n",
    "y.backward() # y에서부터 backward됨\n",
    "print(x.grad)"
   ]
  },
  {
   "cell_type": "code",
   "execution_count": 7,
   "id": "7a442d03",
   "metadata": {},
   "outputs": [
    {
     "name": "stdout",
     "output_type": "stream",
     "text": [
      "tensor([2.], grad_fn=<AddBackward0>)\n",
      "tensor([8.])\n"
     ]
    }
   ],
   "source": [
    "x = torch.tensor([1.], requires_grad=True)\n",
    "a = x ** 2\n",
    "b = a + 1\n",
    "print(b)\n",
    "c = b ** 2\n",
    "c.backward()\n",
    "print(x.grad)"
   ]
  },
  {
   "cell_type": "code",
   "execution_count": 8,
   "id": "98cb8b76",
   "metadata": {},
   "outputs": [
    {
     "name": "stdout",
     "output_type": "stream",
     "text": [
      "tensor([4.])\n",
      "tensor([2.])\n"
     ]
    }
   ],
   "source": [
    "x = torch.tensor([1.], requires_grad=True)\n",
    "y = torch.tensor([1.], requires_grad=True)\n",
    "z = 2 * x**2 + y ** 2\n",
    "z.backward()\n",
    "print(x.grad)\n",
    "print(y.grad)"
   ]
  },
  {
   "cell_type": "code",
   "execution_count": 9,
   "id": "42da4ad4",
   "metadata": {},
   "outputs": [
    {
     "name": "stdout",
     "output_type": "stream",
     "text": [
      "tensor([2.])\n",
      "tensor([1.])\n"
     ]
    }
   ],
   "source": [
    "x = torch.tensor([1.], requires_grad=True)\n",
    "y = torch.tensor([1.], requires_grad=True)\n",
    "z = y *x ** 2\n",
    "z.backward()\n",
    "print(x.grad)\n",
    "print(y.grad)"
   ]
  },
  {
   "cell_type": "code",
   "execution_count": 10,
   "id": "3df9e877",
   "metadata": {},
   "outputs": [
    {
     "name": "stdout",
     "output_type": "stream",
     "text": [
      "tensor(14., grad_fn=<SumBackward0>)\n",
      "tensor([2., 4., 6.])\n"
     ]
    }
   ],
   "source": [
    "x = torch.tensor([1., 2., 3.], requires_grad=True)\n",
    "y = torch.sum(x ** 2)\n",
    "y.backward()\n",
    "\n",
    "print(y)\n",
    "print(x.grad)"
   ]
  },
  {
   "cell_type": "code",
   "execution_count": 11,
   "id": "a045b0df",
   "metadata": {},
   "outputs": [
    {
     "name": "stdout",
     "output_type": "stream",
     "text": [
      "tensor([1.])\n"
     ]
    }
   ],
   "source": [
    "x = torch.tensor([1.], requires_grad=True)\n",
    "x.requires_grad=False\n",
    "\n",
    "y = x ** 2\n",
    "print(y)"
   ]
  },
  {
   "cell_type": "code",
   "execution_count": 12,
   "id": "0df3fed9",
   "metadata": {},
   "outputs": [
    {
     "name": "stdout",
     "output_type": "stream",
     "text": [
      "tensor([2.], requires_grad=True)\n",
      "tensor([2.])\n",
      "tensor([4.], grad_fn=<PowBackward0>)\n",
      "tensor([4.])\n"
     ]
    }
   ],
   "source": [
    "x = torch.tensor([2.], requires_grad=True)\n",
    "x2 = x.detach() # detach는 requires_grad=False인 새로운 텐서를 만드는 것 \n",
    "print(x)\n",
    "print(x2)\n",
    "y = x ** 2\n",
    "print(y)\n",
    "y2 = x2 ** 2\n",
    "print(y2)"
   ]
  },
  {
   "cell_type": "code",
   "execution_count": 13,
   "id": "cd3a46c0",
   "metadata": {},
   "outputs": [
    {
     "name": "stdout",
     "output_type": "stream",
     "text": [
      "tensor([2.])\n"
     ]
    }
   ],
   "source": [
    "# detach 사용 용도\n",
    "x = torch.tensor([1.], requires_grad=True)\n",
    "y = x ** 2\n",
    "z = y.detach() # x로 만든 것을 상수로 사용하고 싶은 것\n",
    "w = y + z\n",
    "\n",
    "w.backward()\n",
    "print(x.grad)"
   ]
  },
  {
   "cell_type": "code",
   "execution_count": 14,
   "id": "1fe4c955",
   "metadata": {},
   "outputs": [
    {
     "name": "stdout",
     "output_type": "stream",
     "text": [
      "True\n",
      "tensor([1.])\n",
      "True\n",
      "tensor([1.], grad_fn=<PowBackward0>)\n",
      "False\n",
      "tensor([1.])\n"
     ]
    }
   ],
   "source": [
    "# 많이 쓰이는 torch.no_grad()\n",
    "x = torch.tensor([1.], requires_grad=True)\n",
    "\n",
    "# chain rull을 위해 계속 grad_fn을 upate하므로 grad_fn을 잠시 안 계산하고 싶을 때\n",
    "# 모델 테스트 시에는 불필요하게 메모리 쓸 필요 없기 때문\n",
    "with torch.no_grad():\n",
    "    y = x ** 2\n",
    "    print(x.requires_grad)\n",
    "    print(y)\n",
    "print(x.requires_grad)\n",
    "\n",
    "y = x ** 2\n",
    "print(y)\n",
    "\n",
    "x = torch.tensor([1.], requires_grad=True)\n",
    "x.requires_grad = False\n",
    "y = x **2\n",
    "print(x.requires_grad)\n",
    "print(y)"
   ]
  },
  {
   "cell_type": "code",
   "execution_count": 21,
   "id": "06057087",
   "metadata": {},
   "outputs": [
    {
     "data": {
      "image/svg+xml": [
       "<?xml version=\"1.0\" encoding=\"UTF-8\" standalone=\"no\"?>\n",
       "<!DOCTYPE svg PUBLIC \"-//W3C//DTD SVG 1.1//EN\"\n",
       " \"http://www.w3.org/Graphics/SVG/1.1/DTD/svg11.dtd\">\n",
       "<!-- Generated by graphviz version 13.0.1 (20250615.1724)\n",
       " -->\n",
       "<!-- Pages: 1 -->\n",
       "<svg width=\"202pt\" height=\"280pt\"\n",
       " viewBox=\"0.00 0.00 202.00 280.00\" xmlns=\"http://www.w3.org/2000/svg\" xmlns:xlink=\"http://www.w3.org/1999/xlink\">\n",
       "<g id=\"graph0\" class=\"graph\" transform=\"scale(1 1) rotate(0) translate(4 275.75)\">\n",
       "<polygon fill=\"white\" stroke=\"none\" points=\"-4,4 -4,-275.75 198,-275.75 198,4 -4,4\"/>\n",
       "<!-- 3038263511072 -->\n",
       "<g id=\"node1\" class=\"node\">\n",
       "<title>3038263511072</title>\n",
       "<polygon fill=\"#caff70\" stroke=\"black\" points=\"124,-32.75 70,-32.75 70,0 124,0 124,-32.75\"/>\n",
       "<text xml:space=\"preserve\" text-anchor=\"middle\" x=\"97\" y=\"-7.25\" font-family=\"monospace\" font-size=\"10.00\"> (1)</text>\n",
       "</g>\n",
       "<!-- 3038389805136 -->\n",
       "<g id=\"node2\" class=\"node\">\n",
       "<title>3038389805136</title>\n",
       "<polygon fill=\"lightgrey\" stroke=\"black\" points=\"141,-89.5 53,-89.5 53,-68.75 141,-68.75 141,-89.5\"/>\n",
       "<text xml:space=\"preserve\" text-anchor=\"middle\" x=\"97\" y=\"-76\" font-family=\"monospace\" font-size=\"10.00\">AddBackward0</text>\n",
       "</g>\n",
       "<!-- 3038389805136&#45;&gt;3038263511072 -->\n",
       "<g id=\"edge6\" class=\"edge\">\n",
       "<title>3038389805136&#45;&gt;3038263511072</title>\n",
       "<path fill=\"none\" stroke=\"black\" d=\"M97,-68.36C97,-61.89 97,-53.05 97,-44.55\"/>\n",
       "<polygon fill=\"black\" stroke=\"black\" points=\"100.5,-44.55 97,-34.55 93.5,-44.55 100.5,-44.55\"/>\n",
       "</g>\n",
       "<!-- 3038256983072 -->\n",
       "<g id=\"node3\" class=\"node\">\n",
       "<title>3038256983072</title>\n",
       "<polygon fill=\"lightgrey\" stroke=\"black\" points=\"88,-146.25 0,-146.25 0,-125.5 88,-125.5 88,-146.25\"/>\n",
       "<text xml:space=\"preserve\" text-anchor=\"middle\" x=\"44\" y=\"-132.75\" font-family=\"monospace\" font-size=\"10.00\">MulBackward0</text>\n",
       "</g>\n",
       "<!-- 3038256983072&#45;&gt;3038389805136 -->\n",
       "<g id=\"edge1\" class=\"edge\">\n",
       "<title>3038256983072&#45;&gt;3038389805136</title>\n",
       "<path fill=\"none\" stroke=\"black\" d=\"M53.48,-125.09C60.79,-117.53 71.09,-106.89 79.84,-97.85\"/>\n",
       "<polygon fill=\"black\" stroke=\"black\" points=\"82.11,-100.54 86.55,-90.92 77.08,-95.67 82.11,-100.54\"/>\n",
       "</g>\n",
       "<!-- 3038390976816 -->\n",
       "<g id=\"node4\" class=\"node\">\n",
       "<title>3038390976816</title>\n",
       "<polygon fill=\"lightgrey\" stroke=\"black\" points=\"147,-203 47,-203 47,-182.25 147,-182.25 147,-203\"/>\n",
       "<text xml:space=\"preserve\" text-anchor=\"middle\" x=\"97\" y=\"-189.5\" font-family=\"monospace\" font-size=\"10.00\">AccumulateGrad</text>\n",
       "</g>\n",
       "<!-- 3038390976816&#45;&gt;3038256983072 -->\n",
       "<g id=\"edge2\" class=\"edge\">\n",
       "<title>3038390976816&#45;&gt;3038256983072</title>\n",
       "<path fill=\"none\" stroke=\"black\" d=\"M87.52,-181.84C80.21,-174.28 69.91,-163.64 61.16,-154.6\"/>\n",
       "<polygon fill=\"black\" stroke=\"black\" points=\"63.92,-152.42 54.45,-147.67 58.89,-157.29 63.92,-152.42\"/>\n",
       "</g>\n",
       "<!-- 3038390991072 -->\n",
       "<g id=\"node6\" class=\"node\">\n",
       "<title>3038390991072</title>\n",
       "<polygon fill=\"lightgrey\" stroke=\"black\" points=\"194,-146.25 106,-146.25 106,-125.5 194,-125.5 194,-146.25\"/>\n",
       "<text xml:space=\"preserve\" text-anchor=\"middle\" x=\"150\" y=\"-132.75\" font-family=\"monospace\" font-size=\"10.00\">AddBackward0</text>\n",
       "</g>\n",
       "<!-- 3038390976816&#45;&gt;3038390991072 -->\n",
       "<g id=\"edge5\" class=\"edge\">\n",
       "<title>3038390976816&#45;&gt;3038390991072</title>\n",
       "<path fill=\"none\" stroke=\"black\" d=\"M106.48,-181.84C113.79,-174.28 124.09,-163.64 132.84,-154.6\"/>\n",
       "<polygon fill=\"black\" stroke=\"black\" points=\"135.11,-157.29 139.55,-147.67 130.08,-152.42 135.11,-157.29\"/>\n",
       "</g>\n",
       "<!-- 3038389539840 -->\n",
       "<g id=\"node5\" class=\"node\">\n",
       "<title>3038389539840</title>\n",
       "<polygon fill=\"lightblue\" stroke=\"black\" points=\"124,-271.75 70,-271.75 70,-239 124,-239 124,-271.75\"/>\n",
       "<text xml:space=\"preserve\" text-anchor=\"middle\" x=\"97\" y=\"-246.25\" font-family=\"monospace\" font-size=\"10.00\"> (1)</text>\n",
       "</g>\n",
       "<!-- 3038389539840&#45;&gt;3038390976816 -->\n",
       "<g id=\"edge3\" class=\"edge\">\n",
       "<title>3038389539840&#45;&gt;3038390976816</title>\n",
       "<path fill=\"none\" stroke=\"black\" d=\"M97,-238.73C97,-231.35 97,-222.43 97,-214.49\"/>\n",
       "<polygon fill=\"black\" stroke=\"black\" points=\"100.5,-214.66 97,-204.66 93.5,-214.66 100.5,-214.66\"/>\n",
       "</g>\n",
       "<!-- 3038390991072&#45;&gt;3038389805136 -->\n",
       "<g id=\"edge4\" class=\"edge\">\n",
       "<title>3038390991072&#45;&gt;3038389805136</title>\n",
       "<path fill=\"none\" stroke=\"black\" d=\"M140.52,-125.09C133.21,-117.53 122.91,-106.89 114.16,-97.85\"/>\n",
       "<polygon fill=\"black\" stroke=\"black\" points=\"116.92,-95.67 107.45,-90.92 111.89,-100.54 116.92,-95.67\"/>\n",
       "</g>\n",
       "</g>\n",
       "</svg>\n"
      ],
      "text/plain": [
       "<graphviz.graphs.Digraph at 0x2c36e251190>"
      ]
     },
     "execution_count": 21,
     "metadata": {},
     "output_type": "execute_result"
    }
   ],
   "source": [
    "from torchviz import make_dot\n",
    "x = torch.tensor([1.], requires_grad=True)\n",
    "# make_dot((x ** 2 + 1) ** 2)\n",
    "\n",
    "y = 2 * x\n",
    "z = 3 + x\n",
    "r = y + z\n",
    "make_dot(r)"
   ]
  },
  {
   "cell_type": "code",
   "execution_count": 22,
   "id": "ef183276",
   "metadata": {},
   "outputs": [
    {
     "name": "stdout",
     "output_type": "stream",
     "text": [
      "tensor([3.])\n"
     ]
    }
   ],
   "source": [
    "r.backward()\n",
    "print(x.grad)"
   ]
  }
 ],
 "metadata": {
  "kernelspec": {
   "display_name": "Python 3",
   "language": "python",
   "name": "python3"
  },
  "language_info": {
   "codemirror_mode": {
    "name": "ipython",
    "version": 3
   },
   "file_extension": ".py",
   "mimetype": "text/x-python",
   "name": "python",
   "nbconvert_exporter": "python",
   "pygments_lexer": "ipython3",
   "version": "3.12.6"
  }
 },
 "nbformat": 4,
 "nbformat_minor": 5
}
