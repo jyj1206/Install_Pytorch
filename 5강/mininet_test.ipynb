{
 "cells": [
  {
   "cell_type": "code",
   "execution_count": 1,
   "id": "274ef574",
   "metadata": {},
   "outputs": [],
   "source": [
    "import torch\n",
    "from torch import nn"
   ]
  },
  {
   "cell_type": "code",
   "execution_count": 4,
   "id": "edc83ae4",
   "metadata": {},
   "outputs": [
    {
     "name": "stdout",
     "output_type": "stream",
     "text": [
      "torch.Size([100, 5])\n",
      "Parameter containing:\n",
      "tensor([[ 0.3150, -0.2232,  0.5345],\n",
      "        [-0.3237,  0.3685, -0.5350],\n",
      "        [-0.3902, -0.1272,  0.5151],\n",
      "        [-0.5226,  0.3688,  0.5218],\n",
      "        [ 0.4779, -0.0953,  0.2341]], requires_grad=True)\n",
      "Parameter containing:\n",
      "tensor([-0.2664, -0.3011, -0.0301, -0.0487, -0.4731], requires_grad=True)\n"
     ]
    }
   ],
   "source": [
    "x = torch.randn(100, 3)\n",
    "layer = nn.Linear(3, 5)\n",
    "print(layer(x).shape)\n",
    "print(layer.weight)\n",
    "print(layer.bias)"
   ]
  },
  {
   "cell_type": "code",
   "execution_count": 3,
   "id": "97f83155",
   "metadata": {},
   "outputs": [
    {
     "name": "stdout",
     "output_type": "stream",
     "text": [
      "tensor([[-0.8082, -0.2017, -0.6551,  0.2314,  1.8757],\n",
      "        [-0.3663, -0.2602, -1.1768,  0.4068, -0.1238]])\n",
      "tensor([[0.0000, 0.0000, 0.0000, 0.2314, 1.8757],\n",
      "        [0.0000, 0.0000, 0.0000, 0.4068, 0.0000]])\n"
     ]
    }
   ],
   "source": [
    "x = torch.randn(2, 5)\n",
    "layer = nn.ReLU()\n",
    "print(x)\n",
    "print(layer(x))"
   ]
  },
  {
   "cell_type": "code",
   "execution_count": 18,
   "id": "43fd8f8d",
   "metadata": {},
   "outputs": [
    {
     "name": "stdout",
     "output_type": "stream",
     "text": [
      "Parameter containing:\n",
      "tensor([1., 1., 1.], requires_grad=True)\n",
      "Parameter containing:\n",
      "tensor([0., 0., 0.], requires_grad=True)\n",
      "tensor([[ 0.4116,  0.6622, -1.5994],\n",
      "        [ 0.0056, -0.3180, -1.0906],\n",
      "        [-0.2844, -0.5841, -0.5170],\n",
      "        [ 0.1706,  2.8495,  2.1582],\n",
      "        [-0.7289,  0.5421,  1.2948]])\n",
      "tensor([[ 1.2620,  0.0264, -1.1466],\n",
      "        [ 0.2304, -0.7844, -0.7927],\n",
      "        [-0.5065, -1.0045, -0.3938],\n",
      "        [ 0.6498,  1.8356,  1.4668],\n",
      "        [-1.6357, -0.0730,  0.8663]], grad_fn=<NativeBatchNormBackward0>)\n"
     ]
    }
   ],
   "source": [
    "layer = nn.BatchNorm1d(3)\n",
    "print(layer.weight) # 스케일 파라미터\n",
    "print(layer.bias) # 시프트 파라미터\n",
    "\n",
    "x = torch.randn(5, 3)\n",
    "print(x)\n",
    "print(layer(x))"
   ]
  },
  {
   "cell_type": "code",
   "execution_count": 19,
   "id": "ab9e79de",
   "metadata": {},
   "outputs": [
    {
     "name": "stdout",
     "output_type": "stream",
     "text": [
      "Parameter containing:\n",
      "tensor([1., 1., 1.], requires_grad=True)\n",
      "Parameter containing:\n",
      "tensor([0., 0., 0.], requires_grad=True)\n",
      "tensor([[ 1.2153, -1.5890,  1.3385],\n",
      "        [-0.5538,  0.0478, -0.6904],\n",
      "        [ 0.1404,  1.3030,  0.4088],\n",
      "        [-0.3741,  0.8841, -2.9325],\n",
      "        [ 0.2205,  0.1330,  1.4159]])\n",
      "tensor([[ 0.6611, -1.4132,  0.7522],\n",
      "        [-0.4834,  1.3926, -0.9092],\n",
      "        [-0.9597,  1.3794, -0.4197],\n",
      "        [ 0.2729,  1.0653, -1.3382],\n",
      "        [-0.6311, -0.7805,  1.4116]], grad_fn=<NativeLayerNormBackward0>)\n"
     ]
    }
   ],
   "source": [
    "layer = nn.LayerNorm(3)\n",
    "print(layer.weight) # 스케일 파라미터\n",
    "print(layer.bias) # 시프트 파라미터\n",
    "\n",
    "x = torch.randn(5, 3)\n",
    "print(x)\n",
    "print(layer(x))"
   ]
  },
  {
   "cell_type": "code",
   "execution_count": 25,
   "id": "1e4e1df9",
   "metadata": {},
   "outputs": [
    {
     "name": "stdout",
     "output_type": "stream",
     "text": [
      "Parameter containing:\n",
      "tensor([1., 1., 1.], requires_grad=True)\n",
      "Parameter containing:\n",
      "tensor([0., 0., 0.], requires_grad=True)\n",
      "torch.Size([5, 3, 32, 32])\n"
     ]
    }
   ],
   "source": [
    "layer = nn.BatchNorm2d(3)\n",
    "print(layer.weight)\n",
    "print(layer.bias)\n",
    "x = torch.randn(5, 3, 32, 32)\n",
    "print(layer(x).shape)"
   ]
  },
  {
   "cell_type": "code",
   "execution_count": 34,
   "id": "571346cf",
   "metadata": {},
   "outputs": [
    {
     "name": "stdout",
     "output_type": "stream",
     "text": [
      "tensor([[-0.3845, -0.5713,  1.6759,  1.4061,  0.6585, -1.1067,  1.6656],\n",
      "        [ 0.5114, -1.0285, -0.6001,  1.1389, -0.3832,  1.2290,  0.1345],\n",
      "        [ 0.3324, -0.3695, -1.5874, -0.7940, -0.4696,  0.4641,  0.1636]])\n",
      "tensor([[-0.3845, -0.5713,  1.6759,  0.0000,  0.6585, -1.1067,  1.6656],\n",
      "        [ 0.0000, -1.0285, -0.6001,  1.1389, -0.3832,  1.2290,  0.1345],\n",
      "        [ 0.3324, -0.3695, -1.5874, -0.7940, -0.4696,  0.4641,  0.1636]])\n",
      "tensor([[-0.3845, -0.5713,  1.6759,  1.4061,  0.6585, -1.1067,  1.6656],\n",
      "        [ 0.5114, -1.0285, -0.6001,  1.1389, -0.3832,  1.2290,  0.1345],\n",
      "        [ 0.3324, -0.3695, -1.5874, -0.7940, -0.4696,  0.4641,  0.1636]])\n"
     ]
    }
   ],
   "source": [
    "x = torch.randn(3, 7)\n",
    "drop = nn.Dropout(p = 0.1) # 구현에서 p는 죽일 확률\n",
    "print(x)\n",
    "print(drop(x) * (1 - 0.1))\n",
    "drop.eval()\n",
    "print(drop(x))"
   ]
  },
  {
   "cell_type": "code",
   "execution_count": 36,
   "id": "03bda04e",
   "metadata": {},
   "outputs": [
    {
     "name": "stdout",
     "output_type": "stream",
     "text": [
      "tensor([[1.7471, 0.0000, 1.0473, 0.0000, 0.0000, 0.3230, 0.0000],\n",
      "        [0.3837, 0.0000, 0.0000, 0.0000, 1.5146, 0.0000, 0.0000],\n",
      "        [0.0000, 1.1444, 0.0000, 1.1557, 0.0000, 0.0000, 0.0000]],\n",
      "       grad_fn=<MulBackward0>)\n",
      "tensor([[1.2230, 0.0000, 0.7331, 0.0000, 0.5645, 0.2261, 0.0000],\n",
      "        [0.2686, 0.0000, 0.2582, 0.1962, 1.0602, 1.4235, 0.0000],\n",
      "        [0.0000, 0.8011, 0.0000, 0.8090, 0.3599, 0.0000, 0.0000]],\n",
      "       grad_fn=<ReluBackward0>)\n"
     ]
    }
   ],
   "source": [
    "class sample_model(nn.Module):\n",
    "    def __init__(self):\n",
    "        super().__init__()\n",
    "        self.drop_layer = nn.Sequential(nn.Linear(5, 7),\n",
    "                                        nn.ReLU(),\n",
    "                                        nn.Dropout(p=0.3))\n",
    "    \n",
    "    def forward(self, x):\n",
    "        x = self.drop_layer(x)\n",
    "        return x\n",
    "\n",
    "model = sample_model()\n",
    "model.train()\n",
    "x = torch.randn(3, 5)\n",
    "print(model(x))\n",
    "\n",
    "model.eval()\n",
    "print(model(x))"
   ]
  }
 ],
 "metadata": {
  "kernelspec": {
   "display_name": "Python 3",
   "language": "python",
   "name": "python3"
  },
  "language_info": {
   "codemirror_mode": {
    "name": "ipython",
    "version": 3
   },
   "file_extension": ".py",
   "mimetype": "text/x-python",
   "name": "python",
   "nbconvert_exporter": "python",
   "pygments_lexer": "ipython3",
   "version": "3.12.6"
  }
 },
 "nbformat": 4,
 "nbformat_minor": 5
}
