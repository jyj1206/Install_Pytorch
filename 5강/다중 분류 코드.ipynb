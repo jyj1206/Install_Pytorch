{
 "cells": [
  {
   "cell_type": "code",
   "execution_count": 5,
   "id": "4054784e",
   "metadata": {},
   "outputs": [],
   "source": [
    "import torch\n",
    "from torchvision import datasets, transforms\n",
    "import matplotlib.pyplot as plt"
   ]
  },
  {
   "cell_type": "markdown",
   "id": "b7bb801e",
   "metadata": {},
   "source": [
    "## GPU 사용"
   ]
  },
  {
   "cell_type": "code",
   "execution_count": null,
   "id": "bbf9b5db",
   "metadata": {},
   "outputs": [
    {
     "name": "stdout",
     "output_type": "stream",
     "text": [
      "cuda\n"
     ]
    }
   ],
   "source": [
    "DEVICE = 'cuda' if torch.cuda.is_available() else 'cpu'\n",
    "print(DEVICE)"
   ]
  },
  {
   "cell_type": "markdown",
   "id": "3cbc29a7",
   "metadata": {},
   "source": [
    "## 데이터 준비"
   ]
  },
  {
   "cell_type": "code",
   "execution_count": null,
   "id": "20ade837",
   "metadata": {},
   "outputs": [],
   "source": [
    "transform = transforms.ToTensor()\n",
    "train_DS = datasets.MNIST(root = './data', train=True, download=True, transform=transform)\n",
    "test_DS = datasets.MNIST(root = './data', train=False, download=True, transform=transform)"
   ]
  },
  {
   "cell_type": "code",
   "execution_count": null,
   "id": "5fe884e1",
   "metadata": {},
   "outputs": [
    {
     "name": "stdout",
     "output_type": "stream",
     "text": [
      "Dataset MNIST\n",
      "    Number of datapoints: 60000\n",
      "    Root location: ./data\n",
      "    Split: Train\n",
      "    StandardTransform\n",
      "Transform: ToTensor()\n",
      "Dataset MNIST\n",
      "    Number of datapoints: 10000\n",
      "    Root location: ./data\n",
      "    Split: Test\n",
      "    StandardTransform\n",
      "Transform: ToTensor()\n"
     ]
    }
   ],
   "source": [
    "print(train_DS)\n",
    "print(test_DS)\n",
    "print(len(train_DS))\n",
    "print(len(test_DS))"
   ]
  },
  {
   "cell_type": "code",
   "execution_count": 10,
   "id": "5a41c580",
   "metadata": {},
   "outputs": [
    {
     "data": {
      "text/plain": [
       "['0 - zero',\n",
       " '1 - one',\n",
       " '2 - two',\n",
       " '3 - three',\n",
       " '4 - four',\n",
       " '5 - five',\n",
       " '6 - six',\n",
       " '7 - seven',\n",
       " '8 - eight',\n",
       " '9 - nine']"
      ]
     },
     "execution_count": 10,
     "metadata": {},
     "output_type": "execute_result"
    }
   ],
   "source": [
    "train_DS.classes"
   ]
  },
  {
   "cell_type": "code",
   "execution_count": 11,
   "id": "a6e067a2",
   "metadata": {},
   "outputs": [
    {
     "data": {
      "text/plain": [
       "{'0 - zero': 0,\n",
       " '1 - one': 1,\n",
       " '2 - two': 2,\n",
       " '3 - three': 3,\n",
       " '4 - four': 4,\n",
       " '5 - five': 5,\n",
       " '6 - six': 6,\n",
       " '7 - seven': 7,\n",
       " '8 - eight': 8,\n",
       " '9 - nine': 9}"
      ]
     },
     "execution_count": 11,
     "metadata": {},
     "output_type": "execute_result"
    }
   ],
   "source": [
    "train_DS.class_to_idx"
   ]
  },
  {
   "cell_type": "code",
   "execution_count": 13,
   "id": "e4a286fa",
   "metadata": {},
   "outputs": [
    {
     "data": {
      "text/plain": [
       "torch.Size([60000, 28, 28])"
      ]
     },
     "execution_count": 13,
     "metadata": {},
     "output_type": "execute_result"
    }
   ],
   "source": [
    "train_DS.data.shape"
   ]
  },
  {
   "cell_type": "code",
   "execution_count": 14,
   "id": "d2c81a39",
   "metadata": {},
   "outputs": [
    {
     "data": {
      "text/plain": [
       "tensor([[  0,   0,   0,   0,   0,   0,   0,   0,   0,   0,   0,   0,   0,   0,\n",
       "           0,   0,   0,   0,   0,   0,   0,   0,   0,   0,   0,   0,   0,   0],\n",
       "        [  0,   0,   0,   0,   0,   0,   0,   0,   0,   0,   0,   0,   0,   0,\n",
       "           0,   0,   0,   0,   0,   0,   0,   0,   0,   0,   0,   0,   0,   0],\n",
       "        [  0,   0,   0,   0,   0,   0,   0,   0,   0,   0,   0,   0,   0,   0,\n",
       "           0,   0,   0,   0,   0,   0,   0,   0,   0,   0,   0,   0,   0,   0],\n",
       "        [  0,   0,   0,   0,   0,   0,   0,   0,   0,   0,   0,   0,   0,   0,\n",
       "           0,   0,   0,   0,   0,   0,   0,   0,   0,   0,   0,   0,   0,   0],\n",
       "        [  0,   0,   0,   0,   0,   0,   0,   0,   0,   0,   0,   0,   0,   0,\n",
       "           0,   0,   0,   0,   0,   0,   0,   0,   0,   0,   0,   0,   0,   0],\n",
       "        [  0,   0,   0,   0,   0,   0,   0,   0,   0,   0,   0,   0,   3,  18,\n",
       "          18,  18, 126, 136, 175,  26, 166, 255, 247, 127,   0,   0,   0,   0],\n",
       "        [  0,   0,   0,   0,   0,   0,   0,   0,  30,  36,  94, 154, 170, 253,\n",
       "         253, 253, 253, 253, 225, 172, 253, 242, 195,  64,   0,   0,   0,   0],\n",
       "        [  0,   0,   0,   0,   0,   0,   0,  49, 238, 253, 253, 253, 253, 253,\n",
       "         253, 253, 253, 251,  93,  82,  82,  56,  39,   0,   0,   0,   0,   0],\n",
       "        [  0,   0,   0,   0,   0,   0,   0,  18, 219, 253, 253, 253, 253, 253,\n",
       "         198, 182, 247, 241,   0,   0,   0,   0,   0,   0,   0,   0,   0,   0],\n",
       "        [  0,   0,   0,   0,   0,   0,   0,   0,  80, 156, 107, 253, 253, 205,\n",
       "          11,   0,  43, 154,   0,   0,   0,   0,   0,   0,   0,   0,   0,   0],\n",
       "        [  0,   0,   0,   0,   0,   0,   0,   0,   0,  14,   1, 154, 253,  90,\n",
       "           0,   0,   0,   0,   0,   0,   0,   0,   0,   0,   0,   0,   0,   0],\n",
       "        [  0,   0,   0,   0,   0,   0,   0,   0,   0,   0,   0, 139, 253, 190,\n",
       "           2,   0,   0,   0,   0,   0,   0,   0,   0,   0,   0,   0,   0,   0],\n",
       "        [  0,   0,   0,   0,   0,   0,   0,   0,   0,   0,   0,  11, 190, 253,\n",
       "          70,   0,   0,   0,   0,   0,   0,   0,   0,   0,   0,   0,   0,   0],\n",
       "        [  0,   0,   0,   0,   0,   0,   0,   0,   0,   0,   0,   0,  35, 241,\n",
       "         225, 160, 108,   1,   0,   0,   0,   0,   0,   0,   0,   0,   0,   0],\n",
       "        [  0,   0,   0,   0,   0,   0,   0,   0,   0,   0,   0,   0,   0,  81,\n",
       "         240, 253, 253, 119,  25,   0,   0,   0,   0,   0,   0,   0,   0,   0],\n",
       "        [  0,   0,   0,   0,   0,   0,   0,   0,   0,   0,   0,   0,   0,   0,\n",
       "          45, 186, 253, 253, 150,  27,   0,   0,   0,   0,   0,   0,   0,   0],\n",
       "        [  0,   0,   0,   0,   0,   0,   0,   0,   0,   0,   0,   0,   0,   0,\n",
       "           0,  16,  93, 252, 253, 187,   0,   0,   0,   0,   0,   0,   0,   0],\n",
       "        [  0,   0,   0,   0,   0,   0,   0,   0,   0,   0,   0,   0,   0,   0,\n",
       "           0,   0,   0, 249, 253, 249,  64,   0,   0,   0,   0,   0,   0,   0],\n",
       "        [  0,   0,   0,   0,   0,   0,   0,   0,   0,   0,   0,   0,   0,   0,\n",
       "          46, 130, 183, 253, 253, 207,   2,   0,   0,   0,   0,   0,   0,   0],\n",
       "        [  0,   0,   0,   0,   0,   0,   0,   0,   0,   0,   0,   0,  39, 148,\n",
       "         229, 253, 253, 253, 250, 182,   0,   0,   0,   0,   0,   0,   0,   0],\n",
       "        [  0,   0,   0,   0,   0,   0,   0,   0,   0,   0,  24, 114, 221, 253,\n",
       "         253, 253, 253, 201,  78,   0,   0,   0,   0,   0,   0,   0,   0,   0],\n",
       "        [  0,   0,   0,   0,   0,   0,   0,   0,  23,  66, 213, 253, 253, 253,\n",
       "         253, 198,  81,   2,   0,   0,   0,   0,   0,   0,   0,   0,   0,   0],\n",
       "        [  0,   0,   0,   0,   0,   0,  18, 171, 219, 253, 253, 253, 253, 195,\n",
       "          80,   9,   0,   0,   0,   0,   0,   0,   0,   0,   0,   0,   0,   0],\n",
       "        [  0,   0,   0,   0,  55, 172, 226, 253, 253, 253, 253, 244, 133,  11,\n",
       "           0,   0,   0,   0,   0,   0,   0,   0,   0,   0,   0,   0,   0,   0],\n",
       "        [  0,   0,   0,   0, 136, 253, 253, 253, 212, 135, 132,  16,   0,   0,\n",
       "           0,   0,   0,   0,   0,   0,   0,   0,   0,   0,   0,   0,   0,   0],\n",
       "        [  0,   0,   0,   0,   0,   0,   0,   0,   0,   0,   0,   0,   0,   0,\n",
       "           0,   0,   0,   0,   0,   0,   0,   0,   0,   0,   0,   0,   0,   0],\n",
       "        [  0,   0,   0,   0,   0,   0,   0,   0,   0,   0,   0,   0,   0,   0,\n",
       "           0,   0,   0,   0,   0,   0,   0,   0,   0,   0,   0,   0,   0,   0],\n",
       "        [  0,   0,   0,   0,   0,   0,   0,   0,   0,   0,   0,   0,   0,   0,\n",
       "           0,   0,   0,   0,   0,   0,   0,   0,   0,   0,   0,   0,   0,   0]],\n",
       "       dtype=torch.uint8)"
      ]
     },
     "execution_count": 14,
     "metadata": {},
     "output_type": "execute_result"
    }
   ],
   "source": [
    "train_DS.data[0]"
   ]
  },
  {
   "cell_type": "code",
   "execution_count": 16,
   "id": "705447d2",
   "metadata": {},
   "outputs": [
    {
     "data": {
      "image/png": "[encoded data removed]",
      "text/plain": [
       "<Figure size 640x480 with 1 Axes>"
      ]
     },
     "metadata": {},
     "output_type": "display_data"
    }
   ],
   "source": [
    "plt.imshow(train_DS.data[0], cmap='gray')\n",
    "plt.show()"
   ]
  },
  {
   "cell_type": "code",
   "execution_count": 17,
   "id": "2abb12cf",
   "metadata": {},
   "outputs": [
    {
     "name": "stdout",
     "output_type": "stream",
     "text": [
      "tensor([5, 0, 4,  ..., 5, 6, 8])\n",
      "torch.Size([60000])\n"
     ]
    }
   ],
   "source": [
    "print(train_DS.targets)\n",
    "print(train_DS.targets.shape)"
   ]
  },
  {
   "cell_type": "markdown",
   "id": "107e1d58",
   "metadata": {},
   "source": [
    "## DataLoader 만들기"
   ]
  },
  {
   "cell_type": "code",
   "execution_count": 18,
   "id": "48548eae",
   "metadata": {},
   "outputs": [],
   "source": [
    "BATCH_SIZE = 32\n",
    "train_DL = torch.utils.data.DataLoader(train_DS, batch_size=BATCH_SIZE, shuffle=True)\n",
    "test_DL = torch.utils.data.DataLoader(test_DS, batch_size=BATCH_SIZE, shuffle=True)"
   ]
  },
  {
   "cell_type": "code",
   "execution_count": 34,
   "id": "fc8eed21",
   "metadata": {},
   "outputs": [
    {
     "name": "stdout",
     "output_type": "stream",
     "text": [
      "torch.Size([60000, 28, 28])\n",
      "torch.Size([32, 1, 28, 28])\n"
     ]
    },
    {
     "data": {
      "image/png": "[encoded data removed]",
      "text/plain": [
       "<Figure size 640x480 with 2 Axes>"
      ]
     },
     "metadata": {},
     "output_type": "display_data"
    }
   ],
   "source": [
    "x_batch, y_batch = next(iter(train_DL)) # 데이터 한 배치\n",
    "\n",
    "# print(type(train_DS.data))\n",
    "print(train_DS.data.shape)\n",
    "# print(train_DS.data.dtype)\n",
    "# print(train_DS.data[0])\n",
    "\n",
    "# print(type(x_batch))\n",
    "print(x_batch.shape)\n",
    "# print(x_batch.dtype)\n",
    "# print(x_batch[0])\n",
    "\n",
    "plt.imshow(x_batch[0].squeeze(), cmap='gray')\n",
    "plt.colorbar()\n",
    "plt.show()"
   ]
  },
  {
   "cell_type": "markdown",
   "id": "f47e80f6",
   "metadata": {},
   "source": [
    "## 모델 만들기"
   ]
  },
  {
   "cell_type": "code",
   "execution_count": 35,
   "id": "cbfc68cc",
   "metadata": {},
   "outputs": [],
   "source": [
    "from torch import nn\n",
    "\n",
    "class MLP(nn.Module):\n",
    "    def __init__(self):\n",
    "        super().__init__()\n",
    "        self.fcs  = nn.Sequential(nn.Linear(28 * 28, 100),\n",
    "                                  nn.ReLU(),\n",
    "                                  nn.Linear(100, 10))\n",
    "    \n",
    "    def forward(self, x):\n",
    "        x = torch.flatten(x, start_dim=1)\n",
    "        x = self.fcs(x)\n",
    "        return x   "
   ]
  },
  {
   "cell_type": "code",
   "execution_count": 36,
   "id": "b977fbe0",
   "metadata": {},
   "outputs": [
    {
     "name": "stdout",
     "output_type": "stream",
     "text": [
      "torch.Size([32, 1, 28, 28])\n",
      "torch.Size([25088])\n",
      "torch.Size([32, 784])\n"
     ]
    }
   ],
   "source": [
    "# flatten 확인\n",
    "x_batch, _ = next(iter(train_DL))\n",
    "print(x_batch.shape)\n",
    "flat_image = torch.flatten(x_batch)\n",
    "print(flat_image.shape)\n",
    "flat_image2 = torch.flatten(x_batch, start_dim=1)\n",
    "print(flat_image2.shape)"
   ]
  },
  {
   "cell_type": "code",
   "execution_count": 39,
   "id": "1ffa34ce",
   "metadata": {},
   "outputs": [
    {
     "name": "stdout",
     "output_type": "stream",
     "text": [
      "MLP(\n",
      "  (fcs): Sequential(\n",
      "    (0): Linear(in_features=784, out_features=100, bias=True)\n",
      "    (1): ReLU()\n",
      "    (2): Linear(in_features=100, out_features=10, bias=True)\n",
      "  )\n",
      ")\n",
      "torch.Size([32, 10])\n"
     ]
    }
   ],
   "source": [
    "model = MLP().to(DEVICE)\n",
    "print(model)\n",
    "x_batch, _ = next(iter(train_DL))\n",
    "print(model(x_batch.to(DEVICE)).shape)"
   ]
  },
  {
   "cell_type": "markdown",
   "id": "a5b2dc77",
   "metadata": {},
   "source": [
    "## 모델 훈련하기"
   ]
  },
  {
   "cell_type": "code",
   "execution_count": 45,
   "id": "82d26756",
   "metadata": {},
   "outputs": [],
   "source": [
    "from torch import optim\n",
    "\n",
    "LR = 1e-3\n",
    "EPOCH = 5\n",
    "criterion = nn.CrossEntropyLoss()\n",
    "optimizer = optim.Adam(model.parameters(), lr=LR)\n",
    "\n",
    "def train(model, train_DL, criterion, optimizer, EPOCH):\n",
    "    \n",
    "    loss_history = []\n",
    "    NoT = len(train_DL.dataset)\n",
    "    \n",
    "    model.train() # train mode로 전환\n",
    "    for ep in range(EPOCH):\n",
    "        rloss = 0 # running loss\n",
    "        for x_batch, y_batch in train_DL:\n",
    "            x_batch = x_batch.to(DEVICE)\n",
    "            y_batch = y_batch.to(DEVICE)\n",
    "            \n",
    "            # inference\n",
    "            y_hat = model(x_batch)\n",
    "            \n",
    "            # loss\n",
    "            loss = criterion(y_hat, y_batch)\n",
    "            \n",
    "            # update\n",
    "            optimizer.zero_grad()\n",
    "            loss.backward()\n",
    "            optimizer.step()\n",
    "            \n",
    "            # loss accumuation\n",
    "            loss_b = loss.item() * x_batch.shape[0]\n",
    "            rloss += loss_b\n",
    "        \n",
    "        # print loss\n",
    "        loss_e = rloss/NoT # epoch loss\n",
    "        loss_history += [loss_e]\n",
    "        print(f'Epoch: {ep+1}, train loss: {loss_e:.3f}')\n",
    "        print('-' * 20)\n",
    "        \n",
    "    return loss_history"
   ]
  },
  {
   "cell_type": "code",
   "execution_count": 48,
   "id": "0dc7cd0d",
   "metadata": {},
   "outputs": [
    {
     "name": "stdout",
     "output_type": "stream",
     "text": [
      "Epoch: 1, train loss: 0.010\n",
      "--------------------\n",
      "Epoch: 2, train loss: 0.008\n",
      "--------------------\n",
      "Epoch: 3, train loss: 0.008\n",
      "--------------------\n",
      "Epoch: 4, train loss: 0.008\n",
      "--------------------\n",
      "Epoch: 5, train loss: 0.007\n",
      "--------------------\n"
     ]
    },
    {
     "data": {
      "image/png": "[encoded data removed]",
      "text/plain": [
       "<Figure size 640x480 with 1 Axes>"
      ]
     },
     "metadata": {},
     "output_type": "display_data"
    }
   ],
   "source": [
    "loss_history = train(model, train_DL, criterion, optimizer, EPOCH)\n",
    "\n",
    "plt.plot(range(1, EPOCH+1), loss_history)\n",
    "plt.xlabel('Epoch')\n",
    "plt.ylabel('loss')\n",
    "plt.title('Train Loss')\n",
    "plt.grid()"
   ]
  },
  {
   "cell_type": "markdown",
   "id": "3f63ffb9",
   "metadata": {},
   "source": [
    "모델 저장하기 & 불러오기"
   ]
  },
  {
   "cell_type": "code",
   "execution_count": 50,
   "id": "6a3f7e87",
   "metadata": {},
   "outputs": [],
   "source": [
    "save_model_path = './results/MLP.pt'\n",
    "torch.save(model.state_dict(), save_model_path)"
   ]
  },
  {
   "cell_type": "code",
   "execution_count": 51,
   "id": "3ea7d46a",
   "metadata": {},
   "outputs": [
    {
     "name": "stderr",
     "output_type": "stream",
     "text": [
      "C:\\Users\\jyj1206\\AppData\\Local\\Temp\\ipykernel_14716\\2190178740.py:2: FutureWarning: You are using `torch.load` with `weights_only=False` (the current default value), which uses the default pickle module implicitly. It is possible to construct malicious pickle data which will execute arbitrary code during unpickling (See https://github.com/pytorch/pytorch/blob/main/SECURITY.md#untrusted-models for more details). In a future release, the default value for `weights_only` will be flipped to `True`. This limits the functions that could be executed during unpickling. Arbitrary objects will no longer be allowed to be loaded via this mode unless they are explicitly allowlisted by the user via `torch.serialization.add_safe_globals`. We recommend you start setting `weights_only=True` for any use case where you don't have full control of the loaded file. Please open an issue on GitHub for any issues related to this experimental feature.\n",
      "  load_model.load_state_dict(torch.load(save_model_path, map_location=DEVICE))\n"
     ]
    },
    {
     "data": {
      "text/plain": [
       "<All keys matched successfully>"
      ]
     },
     "execution_count": 51,
     "metadata": {},
     "output_type": "execute_result"
    }
   ],
   "source": [
    "load_model = MLP().to(DEVICE)\n",
    "load_model.load_state_dict(torch.load(save_model_path, map_location=DEVICE))"
   ]
  },
  {
   "cell_type": "markdown",
   "id": "b14fc8c6",
   "metadata": {},
   "source": [
    "모델 테스트하기"
   ]
  },
  {
   "cell_type": "code",
   "execution_count": 58,
   "id": "c8724487",
   "metadata": {},
   "outputs": [],
   "source": [
    "def Test(model, test_DL):\n",
    "    model.eval() # test mode로 변환\n",
    "    with torch.no_grad():\n",
    "        rcorrect = 0\n",
    "        for x_batch, y_batch in test_DL:\n",
    "            x_batch = x_batch.to(DEVICE)\n",
    "            y_batch = y_batch.to(DEVICE)\n",
    "            \n",
    "            # inference\n",
    "            y_hat = model(x_batch)\n",
    "            \n",
    "            # corrects accumulation\n",
    "            pred = y_hat.argmax(dim=1)\n",
    "            corrects_b = torch.sum(pred == y_batch).item()\n",
    "            rcorrect += corrects_b\n",
    "        accuracy_e = rcorrect/len(test_DL.dataset) * 100\n",
    "    print(f'Test accuracy: {rcorrect}/{len(test_DL.dataset)} ({accuracy_e:.1f})')\n",
    "    return round(accuracy_e, 1)"
   ]
  },
  {
   "cell_type": "code",
   "execution_count": 59,
   "id": "90a73b41",
   "metadata": {},
   "outputs": [
    {
     "name": "stdout",
     "output_type": "stream",
     "text": [
      "Test accuracy: 9747/10000 (97.5)\n"
     ]
    },
    {
     "data": {
      "text/plain": [
       "97.5"
      ]
     },
     "execution_count": 59,
     "metadata": {},
     "output_type": "execute_result"
    }
   ],
   "source": [
    "Test(load_model, test_DL)"
   ]
  },
  {
   "cell_type": "code",
   "execution_count": 66,
   "id": "a90577e5",
   "metadata": {},
   "outputs": [],
   "source": [
    "def Test_plot(model, test_DL):\n",
    "    model.eval()\n",
    "    with torch.no_grad():\n",
    "        x_batch, y_batch = next(iter(test_DL))\n",
    "        x_batch = x_batch.to(DEVICE)\n",
    "        y_hat = model(x_batch)\n",
    "        pred = y_hat.argmax(dim = 1)\n",
    "\n",
    "    x_batch = x_batch.to('cpu')\n",
    "    \n",
    "    plt.figure(figsize=(8, 4))\n",
    "    for idx in range(6):\n",
    "        plt.subplot(2, 3, idx+1, xticks=[], yticks=[])\n",
    "        plt.imshow(x_batch[idx].permute(1, 2, 0).squeeze(), cmap='gray')\n",
    "        pred_class = test_DL.dataset.classes[pred[idx]]\n",
    "        true_class = test_DL.dataset.classes[y_batch[idx]]\n",
    "        plt.title(f'{pred_class} ({true_class})', color = 'g' if pred_class == true_class else 'r')"
   ]
  },
  {
   "cell_type": "code",
   "execution_count": 71,
   "id": "5a625792",
   "metadata": {},
   "outputs": [
    {
     "data": {
      "image/png": "[encoded data removed]",
      "text/plain": [
       "<Figure size 800x400 with 6 Axes>"
      ]
     },
     "metadata": {},
     "output_type": "display_data"
    }
   ],
   "source": [
    "Test_plot(load_model, test_DL)"
   ]
  },
  {
   "cell_type": "code",
   "execution_count": 72,
   "id": "e4cb60af",
   "metadata": {},
   "outputs": [],
   "source": [
    "# 파라미터 수 구하기\n",
    "def count_params(model):\n",
    "    num = sum([p.numel() for p in model.parameters() if p.requires_grad])\n",
    "    return num"
   ]
  },
  {
   "cell_type": "code",
   "execution_count": 73,
   "id": "a6fbee02",
   "metadata": {},
   "outputs": [
    {
     "name": "stdout",
     "output_type": "stream",
     "text": [
      "79510\n"
     ]
    }
   ],
   "source": [
    "print(count_params(load_model))"
   ]
  }
 ],
 "metadata": {
  "kernelspec": {
   "display_name": "Python 3",
   "language": "python",
   "name": "python3"
  },
  "language_info": {
   "codemirror_mode": {
    "name": "ipython",
    "version": 3
   },
   "file_extension": ".py",
   "mimetype": "text/x-python",
   "name": "python",
   "nbconvert_exporter": "python",
   "pygments_lexer": "ipython3",
   "version": "3.12.6"
  }
 },
 "nbformat": 4,
 "nbformat_minor": 5
}
