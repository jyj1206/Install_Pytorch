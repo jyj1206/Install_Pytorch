{
 "cells": [
  {
   "cell_type": "code",
   "execution_count": 8,
   "id": "40255ffd",
   "metadata": {},
   "outputs": [],
   "source": [
    "import torch\n",
    "from torch import nn, optim\n",
    "from torchvision import datasets, transforms\n",
    "import numpy as np\n",
    "import matplotlib.pyplot as plt"
   ]
  },
  {
   "cell_type": "code",
   "execution_count": 9,
   "id": "c281bf72",
   "metadata": {},
   "outputs": [
    {
     "data": {
      "text/plain": [
       "'cuda'"
      ]
     },
     "execution_count": 9,
     "metadata": {},
     "output_type": "execute_result"
    }
   ],
   "source": [
    "DEVICE = 'cuda' if torch.cuda.is_available() else 'cpu'\n",
    "DEVICE"
   ]
  },
  {
   "cell_type": "code",
   "execution_count": 30,
   "id": "6c2ed8c8",
   "metadata": {},
   "outputs": [],
   "source": [
    "BATCH_SIZE = 32\n",
    "LR = 1e-3\n",
    "EPOCH = 5\n",
    "criterion = nn.CrossEntropyLoss()\n",
    "new_model_train = True\n",
    "model_type = 'MLP'\n",
    "dataset = 'MNIST'\n",
    "save_model_path = f'./results/{model_type}_{dataset}.pt'"
   ]
  },
  {
   "cell_type": "code",
   "execution_count": 31,
   "id": "5a1197f6",
   "metadata": {},
   "outputs": [],
   "source": [
    "transform = transforms.ToTensor()\n",
    "train_DS = datasets.MNIST(root = './data', train=True, download=True, transform=transform)\n",
    "test_DS = datasets.MNIST(root = './data', train=False, download=True, transform=transform)\n",
    "train_DL = torch.utils.data.DataLoader(train_DS, batch_size=BATCH_SIZE, shuffle=True)\n",
    "test_DL = torch.utils.data.DataLoader(test_DS, batch_size=BATCH_SIZE, shuffle=True)"
   ]
  },
  {
   "cell_type": "code",
   "execution_count": 32,
   "id": "4038dcbc",
   "metadata": {},
   "outputs": [],
   "source": [
    "class MLP(nn.Module):\n",
    "    def __init__(self):\n",
    "        super().__init__()\n",
    "        self.fcs = nn.Sequential(nn.Linear(28*28, 30),\n",
    "                                 nn.BatchNorm1d(30),\n",
    "                                 nn.ReLU(),\n",
    "                                 nn.Linear(30, 10))\n",
    "    \n",
    "    def forward(self, x):\n",
    "        x = torch.flatten(x, start_dim=1)\n",
    "        x = self.fcs(x)\n",
    "        return x"
   ]
  },
  {
   "cell_type": "code",
   "execution_count": 33,
   "id": "f70a1d24",
   "metadata": {},
   "outputs": [
    {
     "name": "stdout",
     "output_type": "stream",
     "text": [
      "MLP(\n",
      "  (fcs): Sequential(\n",
      "    (0): Linear(in_features=784, out_features=30, bias=True)\n",
      "    (1): BatchNorm1d(30, eps=1e-05, momentum=0.1, affine=True, track_running_stats=True)\n",
      "    (2): ReLU()\n",
      "    (3): Linear(in_features=30, out_features=10, bias=True)\n",
      "  )\n",
      ")\n",
      "torch.Size([32, 1, 28, 28])\n",
      "torch.Size([32, 10])\n"
     ]
    }
   ],
   "source": [
    "model = MLP().to(DEVICE)\n",
    "print(model)\n",
    "x_batch, _ = next(iter(train_DL))\n",
    "print(x_batch.shape)\n",
    "print(model(x_batch.to(DEVICE)).shape)"
   ]
  },
  {
   "cell_type": "code",
   "execution_count": 41,
   "id": "1bf5414a",
   "metadata": {},
   "outputs": [],
   "source": [
    "def Train(model, train_DL, criterion, optimizer, EPOCH):\n",
    "    loss_history = []\n",
    "    NoT = len(train_DL.dataset)\n",
    "    for ep in range(EPOCH):\n",
    "        rloss = 0\n",
    "        for x_batch, y_batch in train_DL:\n",
    "            x_batch = x_batch.to(DEVICE)\n",
    "            y_batch = y_batch.to(DEVICE)\n",
    "            \n",
    "            # inference\n",
    "            y_hat = model(x_batch)\n",
    "            \n",
    "            # loss\n",
    "            loss = criterion(y_hat, y_batch)\n",
    "            \n",
    "            # update\n",
    "            optimizer.zero_grad()\n",
    "            loss.backward()\n",
    "            optimizer.step()\n",
    "            \n",
    "            # loss accumulation\n",
    "            loss_b = loss.item() * x_batch.shape[0]\n",
    "            rloss += loss_b\n",
    "        \n",
    "        # print loss\n",
    "        loss_e = rloss/NoT # epoch loss\n",
    "        loss_history += [loss_e]\n",
    "        print(f'Epoch: {ep+1}, train loss: {loss_e:.3f}')\n",
    "        print('-' * 20)\n",
    "        \n",
    "    return loss_history"
   ]
  },
  {
   "cell_type": "code",
   "execution_count": null,
   "id": "64358b55",
   "metadata": {},
   "outputs": [
    {
     "name": "stdout",
     "output_type": "stream",
     "text": [
      "Epoch: 1, train loss: 0.401\n",
      "--------------------\n",
      "Epoch: 2, train loss: 0.206\n",
      "--------------------\n",
      "Epoch: 3, train loss: 0.166\n",
      "--------------------\n",
      "Epoch: 4, train loss: 0.144\n",
      "--------------------\n"
     ]
    }
   ],
   "source": [
    "if new_model_train:\n",
    "    optimizer = optim.Adam(model.parameters(), lr=LR)\n",
    "    loss_history = Train(model, train_DL, criterion, optimizer, EPOCH)\n",
    "    \n",
    "    torch.save(model, save_model_path)\n",
    "    \n",
    "    plt.plot(range(1, EPOCH+1), loss_history)\n",
    "    plt.xlabel('Epochs')\n",
    "    plt.ylabel('Loss')\n",
    "    plt.title('Train Loss')\n",
    "    plt.grid()\n",
    "    plt.show()"
   ]
  },
  {
   "cell_type": "code",
   "execution_count": null,
   "id": "8965b815",
   "metadata": {},
   "outputs": [],
   "source": [
    "load_mode = torch.load()"
   ]
  },
  {
   "cell_type": "code",
   "execution_count": null,
   "id": "69456add",
   "metadata": {},
   "outputs": [],
   "source": [
    "def Test(model, test_DL):\n",
    "    model.eval() # test mode로 변환\n",
    "    with torch.no_grad():\n",
    "        rcorrect = 0\n",
    "        for x_batch, y_batch in test_DL:\n",
    "            x_batch = x_batch.to(DEVICE)\n",
    "            y_batch = y_batch.to(DEVICE)\n",
    "            \n",
    "            # inference\n",
    "            y_hat = model(x_batch)\n",
    "            \n",
    "            # corrects accumulation\n",
    "            pred = y_hat.argmax(dim=1)\n",
    "            corrects_b = torch.sum(pred == y_batch).item()\n",
    "            rcorrect += corrects_b\n",
    "        accuracy_e = rcorrect/len(test_DL.dataset) * 100\n",
    "    print(f'Test accuracy: {rcorrect}/{len(test_DL.dataset)} ({accuracy_e:.1f})')\n",
    "    return round(accuracy_e, 1)"
   ]
  },
  {
   "cell_type": "code",
   "execution_count": null,
   "id": "96f8b700",
   "metadata": {},
   "outputs": [],
   "source": []
  }
 ],
 "metadata": {
  "kernelspec": {
   "display_name": "Python 3",
   "language": "python",
   "name": "python3"
  },
  "language_info": {
   "codemirror_mode": {
    "name": "ipython",
    "version": 3
   },
   "file_extension": ".py",
   "mimetype": "text/x-python",
   "name": "python",
   "nbconvert_exporter": "python",
   "pygments_lexer": "ipython3",
   "version": "3.12.6"
  }
 },
 "nbformat": 4,
 "nbformat_minor": 5
}
