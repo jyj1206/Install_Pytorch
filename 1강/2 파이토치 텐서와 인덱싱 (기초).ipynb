{
 "cells": [
  {
   "cell_type": "code",
   "execution_count": 1,
   "id": "4e0c8052",
   "metadata": {},
   "outputs": [],
   "source": [
    "import torch"
   ]
  },
  {
   "cell_type": "code",
   "execution_count": 3,
   "id": "dc29ad46",
   "metadata": {},
   "outputs": [
    {
     "name": "stdout",
     "output_type": "stream",
     "text": [
      "tensor(1)\n",
      "tensor(2)\n",
      "tensor(9)\n",
      "tensor([2, 3, 4])\n",
      "tensor([8, 9])\n",
      "tensor([1, 2, 3, 4, 5, 6, 7])\n",
      "tensor([1, 2, 3, 4, 5, 6, 7, 8, 9])\n"
     ]
    }
   ],
   "source": [
    "a = torch.tensor([1,2,3,4,5,6,7,8,9])\n",
    "\n",
    "print(a[0])\n",
    "print(a[1])\n",
    "print(a[-1])\n",
    "print(a[1:4])\n",
    "print(a[7:])\n",
    "print(a[:7])\n",
    "print(a[:])"
   ]
  },
  {
   "cell_type": "code",
   "execution_count": 16,
   "id": "dfa1b5bb",
   "metadata": {},
   "outputs": [
    {
     "name": "stdout",
     "output_type": "stream",
     "text": [
      "tensor([1, 2, 3])\n",
      "tensor([7, 8, 9])\n",
      "tensor([[1, 2, 3],\n",
      "        [4, 5, 6],\n",
      "        [7, 8, 9]])\n",
      "tensor(3)\n",
      "tensor(3)\n"
     ]
    }
   ],
   "source": [
    "# 행렬 인덱싱과 슬라이싱\n",
    "A = torch.tensor([[1, 2, 3], [4, 5, 6], [7, 8, 9]])\n",
    "print(A[0])\n",
    "print(A[-1])\n",
    "print(A[:])\n",
    "print(A[0][2])\n",
    "print(A[0, 2])"
   ]
  },
  {
   "cell_type": "code",
   "execution_count": 8,
   "id": "7b6bffb1",
   "metadata": {},
   "outputs": [
    {
     "name": "stdout",
     "output_type": "stream",
     "text": [
      "[[1, 2, 3, 4], [5, 6, 7, 8]]\n",
      "3\n"
     ]
    }
   ],
   "source": [
    "B = [[1, 2, 3, 4], [5, 6, 7, 8]]\n",
    "print(B)\n",
    "print(B[0][2])"
   ]
  },
  {
   "cell_type": "code",
   "execution_count": 12,
   "id": "8a9d76fa",
   "metadata": {},
   "outputs": [
    {
     "name": "stdout",
     "output_type": "stream",
     "text": [
      "tensor([4, 5, 6])\n",
      "tensor([4, 6])\n",
      "tensor([3, 6, 9])\n",
      "tensor([7, 8, 9])\n"
     ]
    }
   ],
   "source": [
    "print(A[1, : ])\n",
    "print(A[1, 0:3:2])\n",
    "print(A[:, 2])\n",
    "print(A[:][2])"
   ]
  },
  {
   "cell_type": "code",
   "execution_count": 24,
   "id": "ba421b0a",
   "metadata": {},
   "outputs": [
    {
     "name": "stdout",
     "output_type": "stream",
     "text": [
      "tensor([[[ 0,  1,  2,  3],\n",
      "         [ 4,  5,  6,  7],\n",
      "         [ 8,  9, 10, 11]],\n",
      "\n",
      "        [[12, 13, 14, 15],\n",
      "         [16, 17, 18, 19],\n",
      "         [20, 21, 22, 23]]])\n",
      "torch.Size([2, 3, 4])\n",
      "tensor(6)\n",
      "torch.Size([1, 1, 4])\n"
     ]
    }
   ],
   "source": [
    "# 3차원 행렬 인덱싱\n",
    "A = torch.tensor([[[0, 1, 2, 3], [4, 5, 6, 7], [8, 9, 10, 11]],\n",
    "                 [[12, 13, 14, 15], [16, 17, 18, 19], [20, 21, 22, 23]]])\n",
    "print(A)\n",
    "print(A.shape)\n",
    "print(A[0][1][2])\n",
    "\n",
    "a = torch.tensor([[[1, 2, 3, 4]]]) # 대괄호가하나 늘어나면 왼쪽에 shape 값이 추가된다.\n",
    "print(a.shape)"
   ]
  }
 ],
 "metadata": {
  "kernelspec": {
   "display_name": "Python 3",
   "language": "python",
   "name": "python3"
  },
  "language_info": {
   "codemirror_mode": {
    "name": "ipython",
    "version": 3
   },
   "file_extension": ".py",
   "mimetype": "text/x-python",
   "name": "python",
   "nbconvert_exporter": "python",
   "pygments_lexer": "ipython3",
   "version": "3.12.6"
  }
 },
 "nbformat": 4,
 "nbformat_minor": 5
}
