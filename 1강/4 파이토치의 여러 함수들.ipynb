{
 "cells": [
  {
   "cell_type": "code",
   "execution_count": 1,
   "id": "06545d72",
   "metadata": {},
   "outputs": [],
   "source": [
    "import torch"
   ]
  },
  {
   "cell_type": "code",
   "execution_count": 2,
   "id": "e7faabe0",
   "metadata": {},
   "outputs": [
    {
     "name": "stdout",
     "output_type": "stream",
     "text": [
      "tensor([[-2.0731,  0.3814, -0.1032],\n",
      "        [ 0.1355, -2.2536,  0.0864],\n",
      "        [ 0.5037,  1.6574, -0.0855]])\n",
      "tensor([[0.9006, 0.9321, 0.6352],\n",
      "        [0.1437, 0.5187, 0.7548],\n",
      "        [0.7851, 0.8739, 0.2287]])\n"
     ]
    }
   ],
   "source": [
    "A = torch.randn(3, 3) # normal\n",
    "B = torch.rand(3, 3) # uniform\n",
    "print(A)\n",
    "print(B)"
   ]
  },
  {
   "cell_type": "code",
   "execution_count": 8,
   "id": "07ac425f",
   "metadata": {},
   "outputs": [
    {
     "name": "stdout",
     "output_type": "stream",
     "text": [
      "tensor([[-0.1457,  1.1508,  0.7210],\n",
      "        [-0.2493, -0.7055,  2.3944],\n",
      "        [-0.2575, -1.1625,  0.4843]])\n",
      "tensor([[0.1457, 1.1508, 0.7210],\n",
      "        [0.2493, 0.7055, 2.3944],\n",
      "        [0.2575, 1.1625, 0.4843]])\n",
      "tensor([[0.3817, 1.0727, 0.8491],\n",
      "        [0.4993, 0.8399, 1.5474],\n",
      "        [0.5075, 1.0782, 0.6959]])\n",
      "tensor([[ 0.8644,  3.1606,  2.0564],\n",
      "        [ 0.7793,  0.4939, 10.9617],\n",
      "        [ 0.7730,  0.3127,  1.6230]])\n",
      "tensor([[-1.9264,  0.1404, -0.3272],\n",
      "        [-1.3890, -0.3489,  0.8731],\n",
      "        [-1.3566,  0.1506, -0.7251]])\n",
      "tensor(1.)\n",
      "tensor(1.)\n",
      "tensor(1.)\n",
      "tensor([[-0.,  1.,  1.],\n",
      "        [-0., -1.,  2.],\n",
      "        [-0., -1.,  0.]])\n",
      "tensor([[-0.1500,  1.1500,  0.7200],\n",
      "        [-0.2500, -0.7100,  2.3900],\n",
      "        [-0.2600, -1.1600,  0.4800]])\n",
      "tensor([[-1.,  1.,  0.],\n",
      "        [-1., -1.,  2.],\n",
      "        [-1., -2.,  0.]])\n",
      "tensor([[-0.,  2.,  1.],\n",
      "        [-0., -0.,  3.],\n",
      "        [-0., -1.,  1.]])\n"
     ]
    }
   ],
   "source": [
    "A = torch.randn(3, 3)\n",
    "\n",
    "print(A)\n",
    "print(torch.abs(A))\n",
    "print(torch.sqrt(torch.abs(A)))\n",
    "print(torch.exp(A))\n",
    "print(torch.log(torch.abs(A)))\n",
    "\n",
    "print(torch.log(torch.exp(torch.tensor(1))))\n",
    "print(torch.log10(torch.tensor(10)))\n",
    "print(torch.log2(torch.tensor(2)))\n",
    "\n",
    "print(torch.round(A)) # 반올림\n",
    "print(torch.round(A, decimals=2)) # 소수점 둘째자리까지\n",
    "print(torch.floor(A)) # 내림\n",
    "print(torch.ceil(A)) # 올림"
   ]
  },
  {
   "cell_type": "code",
   "execution_count": 11,
   "id": "53046c95",
   "metadata": {},
   "outputs": [
    {
     "name": "stdout",
     "output_type": "stream",
     "text": [
      "tensor(0.5000)\n",
      "tensor(0.5000)\n",
      "tensor(1.)\n",
      "tensor(-1.)\n"
     ]
    },
    {
     "data": {
      "text/plain": [
       "torch.Tensor"
      ]
     },
     "execution_count": 11,
     "metadata": {},
     "output_type": "execute_result"
    }
   ],
   "source": [
    "print(torch.sin(torch.tensor(torch.pi/6)))\n",
    "print(torch.cos(torch.tensor(torch.pi/3)))\n",
    "print(torch.tan(torch.tensor(torch.pi/4)))\n",
    "print(torch.tanh(torch.tensor(-10)))\n",
    "\n",
    "type(torch.tensor(1) / 6)"
   ]
  },
  {
   "cell_type": "code",
   "execution_count": 13,
   "id": "92b9de48",
   "metadata": {},
   "outputs": [
    {
     "name": "stdout",
     "output_type": "stream",
     "text": [
      "tensor(nan)\n",
      "tensor([False, False,  True, False, False])\n",
      "tensor([False, False, False, False,  True])\n"
     ]
    }
   ],
   "source": [
    "torch.nan\n",
    "print(torch.log(torch.tensor(-1)))\n",
    "print(torch.isnan(torch.tensor([1, 2, torch.nan, 3, 4])))\n",
    "print(torch.isinf(torch.tensor([1, 2, 3, 4, torch.inf])))"
   ]
  },
  {
   "cell_type": "code",
   "execution_count": 16,
   "id": "dbb4975d",
   "metadata": {},
   "outputs": [
    {
     "name": "stdout",
     "output_type": "stream",
     "text": [
      "tensor([[ 0.0089, -0.2562, -0.3923, -1.1896],\n",
      "        [ 1.5892,  0.3007,  1.2254, -0.9372],\n",
      "        [ 0.3417, -0.1806, -0.5549,  0.6805]])\n",
      "tensor(1.5892)\n",
      "torch.return_types.max(\n",
      "values=tensor([1.5892, 0.3007, 1.2254, 0.6805]),\n",
      "indices=tensor([1, 1, 1, 2]))\n",
      "torch.return_types.max(\n",
      "values=tensor([0.0089, 1.5892, 0.6805]),\n",
      "indices=tensor([0, 0, 3]))\n"
     ]
    }
   ],
   "source": [
    "A = torch.randn(3, 4)\n",
    "print(A)\n",
    "\n",
    "print(torch.max(A))\n",
    "print(torch.max(A, dim=0))\n",
    "print(torch.max(A, dim=1))"
   ]
  },
  {
   "cell_type": "code",
   "execution_count": 17,
   "id": "1d8a658c",
   "metadata": {},
   "outputs": [
    {
     "name": "stdout",
     "output_type": "stream",
     "text": [
      "torch.return_types.max(\n",
      "values=tensor([[1.5892, 0.3007, 1.2254, 0.6805]]),\n",
      "indices=tensor([[1, 1, 1, 2]]))\n",
      "torch.return_types.max(\n",
      "values=tensor([[0.0089],\n",
      "        [1.5892],\n",
      "        [0.6805]]),\n",
      "indices=tensor([[0],\n",
      "        [0],\n",
      "        [3]]))\n"
     ]
    }
   ],
   "source": [
    "print(torch.max(A, dim=0, keepdims=True))\n",
    "print(torch.max(A, dim=1, keepdims=True))"
   ]
  },
  {
   "cell_type": "code",
   "execution_count": 18,
   "id": "0fdca615",
   "metadata": {},
   "outputs": [
    {
     "name": "stdout",
     "output_type": "stream",
     "text": [
      "tensor(-1.1896)\n",
      "torch.return_types.min(\n",
      "values=tensor([ 0.0089, -0.2562, -0.5549, -1.1896]),\n",
      "indices=tensor([0, 0, 2, 0]))\n",
      "torch.return_types.min(\n",
      "values=tensor([-1.1896, -0.9372, -0.5549]),\n",
      "indices=tensor([3, 3, 2]))\n"
     ]
    }
   ],
   "source": [
    "print(torch.min(A))\n",
    "print(torch.min(A, dim=0))\n",
    "print(torch.min(A, dim=1))"
   ]
  },
  {
   "cell_type": "code",
   "execution_count": 23,
   "id": "a7a2a550",
   "metadata": {},
   "outputs": [
    {
     "name": "stdout",
     "output_type": "stream",
     "text": [
      "tensor(4)\n",
      "tensor([1, 1, 1, 2])\n",
      "tensor([0, 0, 3])\n"
     ]
    }
   ],
   "source": [
    "print(torch.argmax(A))\n",
    "print(torch.argmax(A, dim=0))\n",
    "print(torch.argmax(A, dim=1))"
   ]
  },
  {
   "cell_type": "code",
   "execution_count": 28,
   "id": "a124b706",
   "metadata": {},
   "outputs": [
    {
     "name": "stdout",
     "output_type": "stream",
     "text": [
      "tensor([[-0.0416],\n",
      "        [-0.8556],\n",
      "        [ 0.0664],\n",
      "        [ 0.0192],\n",
      "        [-0.3736],\n",
      "        [-0.4707]])\n",
      "torch.return_types.sort(\n",
      "values=tensor([[-0.8556],\n",
      "        [-0.4707],\n",
      "        [-0.3736],\n",
      "        [-0.0416],\n",
      "        [ 0.0192],\n",
      "        [ 0.0664]]),\n",
      "indices=tensor([[1],\n",
      "        [5],\n",
      "        [4],\n",
      "        [0],\n",
      "        [3],\n",
      "        [2]]))\n",
      "tensor([[-0.9320],\n",
      "        [ 1.0381],\n",
      "        [ 1.5541],\n",
      "        [ 2.3472],\n",
      "        [ 0.3879],\n",
      "        [-0.8890]])\n",
      "torch.return_types.sort(\n",
      "values=tensor([[-0.9320],\n",
      "        [-0.8890],\n",
      "        [ 0.3879],\n",
      "        [ 1.0381],\n",
      "        [ 1.5541],\n",
      "        [ 2.3472]]),\n",
      "indices=tensor([[0],\n",
      "        [5],\n",
      "        [4],\n",
      "        [1],\n",
      "        [2],\n",
      "        [3]]))\n",
      "torch.return_types.sort(\n",
      "values=tensor([[ 2.3472],\n",
      "        [ 1.5541],\n",
      "        [ 1.0381],\n",
      "        [ 0.3879],\n",
      "        [-0.8890],\n",
      "        [-0.9320]]),\n",
      "indices=tensor([[3],\n",
      "        [2],\n",
      "        [1],\n",
      "        [4],\n",
      "        [5],\n",
      "        [0]]))\n",
      "tensor(2.3472)\n",
      "tensor(2.3472)\n",
      "tensor([[0.9320],\n",
      "        [1.0381],\n",
      "        [1.5541],\n",
      "        [2.3472],\n",
      "        [0.3879],\n",
      "        [0.8890]])\n",
      "tensor([[0.9320],\n",
      "        [1.0381],\n",
      "        [1.5541],\n",
      "        [2.3472],\n",
      "        [0.3879],\n",
      "        [0.8890]])\n"
     ]
    }
   ],
   "source": [
    "a = torch.randn(6, 1)\n",
    "print(a)\n",
    "\n",
    "a_sorted = torch.sort(a, dim=0)\n",
    "print(a_sorted)\n",
    "\n",
    "a = torch.randn(6, 1)\n",
    "print(a)\n",
    "print(a.sort(dim=0))\n",
    "print(a.sort(dim=0, descending=True))\n",
    "\n",
    "print(torch.max(a))\n",
    "print(a.max())\n",
    "print(torch.abs(a))\n",
    "print(a.abs())\n"
   ]
  },
  {
   "cell_type": "code",
   "execution_count": 39,
   "id": "96e4357e",
   "metadata": {},
   "outputs": [
    {
     "name": "stdout",
     "output_type": "stream",
     "text": [
      "tensor([[-1.3786, -1.3433, -0.4357,  0.4955],\n",
      "        [-0.1923,  0.2531,  0.7716,  1.7113],\n",
      "        [ 0.9896, -0.7918, -0.9380,  0.5714]])\n",
      "tensor(-0.2874)\n",
      "tensor([-2.6621,  2.5437, -0.1689])\n",
      "tensor([[-2.6621],\n",
      "        [ 2.5437],\n",
      "        [-0.1689]])\n",
      "tensor(-0.0239)\n",
      "tensor([-0.6655,  0.6359, -0.0422])\n",
      "tensor([[-0.6655],\n",
      "        [ 0.6359],\n",
      "        [-0.0422]])\n",
      "tensor(0.9803)\n",
      "tensor([[-2.6621],\n",
      "        [ 2.5437],\n",
      "        [-0.1689]])\n",
      "tensor([[-0.6655],\n",
      "        [ 0.6359],\n",
      "        [-0.0422]])\n",
      "tensor(0.9803)\n"
     ]
    }
   ],
   "source": [
    "A = torch.randn(3, 4)\n",
    "print(A)\n",
    "print(torch.sum(A))\n",
    "print(torch.sum(A, dim=1))\n",
    "print(torch.sum(A, dim=1, keepdim=True))\n",
    "\n",
    "print(torch.mean(A))\n",
    "print(torch.mean(A, dim=1))\n",
    "print(torch.mean(A, dim=1, keepdim= True))\n",
    "print(torch.std(A)) # 표준편차\n",
    "\n",
    "print(A.sum(dim=1, keepdim=True))\n",
    "print(A.mean(dim=1, keepdim=True))\n",
    "print(A.std())"
   ]
  },
  {
   "cell_type": "code",
   "execution_count": 43,
   "id": "6b7cb613",
   "metadata": {},
   "outputs": [
    {
     "name": "stdout",
     "output_type": "stream",
     "text": [
      "tensor([1, 4, 4, 1, 4, 3, 3, 4, 2, 2, 4, 2])\n",
      "torch.Size([12])\n",
      "tensor([[[1, 4, 4],\n",
      "         [1, 4, 3]],\n",
      "\n",
      "        [[3, 4, 2],\n",
      "         [2, 4, 2]]])\n",
      "3\n"
     ]
    }
   ],
   "source": [
    "A = torch.randint(1, 5, size=(12,))\n",
    "print(A)\n",
    "print(A.shape)\n",
    "\n",
    "B = A.reshape(2, 2, 3)\n",
    "print(B)\n",
    "print(B.ndim)"
   ]
  },
  {
   "cell_type": "code",
   "execution_count": 52,
   "id": "975d2659",
   "metadata": {},
   "outputs": [
    {
     "name": "stdout",
     "output_type": "stream",
     "text": [
      "tensor([ 0,  1,  2,  3,  4,  5,  6,  7,  8,  9, 10, 11, 12, 13, 14, 15, 16, 17,\n",
      "        18, 19])\n",
      "tensor([[ 0,  1,  2,  3,  4],\n",
      "        [ 5,  6,  7,  8,  9],\n",
      "        [10, 11, 12, 13, 14],\n",
      "        [15, 16, 17, 18, 19]])\n",
      "torch.Size([4, 5])\n",
      "torch.Size([2, 5, 2])\n",
      "torch.Size([2, 2, 5])\n",
      "torch.Size([1, 20])\n",
      "torch.Size([20, 1])\n"
     ]
    }
   ],
   "source": [
    "A = torch.arange(20,)\n",
    "print(A)\n",
    "print(A.reshape(4, 5))\n",
    "print(A.reshape(4, -1).shape)\n",
    "print(A.reshape(2, 5, -1).shape)\n",
    "print(A.reshape(2, -1, 5).shape)\n",
    "print(A.reshape(1, -1).shape) # 2차원 행 벡터\n",
    "print(A.reshape(-1, 1).shape) # 2차원 열 벡터"
   ]
  },
  {
   "cell_type": "code",
   "execution_count": null,
   "id": "af2d48a8",
   "metadata": {},
   "outputs": [
    {
     "name": "stdout",
     "output_type": "stream",
     "text": [
      "tensor(9)\n",
      "tensor([[9]])\n",
      "tensor([[9]])\n",
      "tensor([[9]])\n",
      "tensor([[9]])\n",
      "torch.Size([3, 6, 4])\n",
      "torch.Size([4, 6, 3])\n"
     ]
    }
   ],
   "source": [
    "a = torch.tensor([1, 2, 3])\n",
    "b = torch.tensor([2, 2, 1])\n",
    "print(torch.sum(a * b))\n",
    "\n",
    "a = a.reshape(3, 1)\n",
    "b = b.reshape(3, 1)\n",
    "print(a.transpose(1, 0) @ b)\n",
    "print(a.permute(1, 0)@b)\n",
    "print(a.T@b)\n",
    "print(a.t()@b)\n",
    "\n",
    "A = torch.randn(4, 3, 6)\n",
    "print(A.permute(1, 2, 0).shape)\n",
    "print(A.transpose(1, 2).shape)"
   ]
  },
  {
   "cell_type": "code",
   "execution_count": 72,
   "id": "0a830b1e",
   "metadata": {},
   "outputs": [
    {
     "name": "stdout",
     "output_type": "stream",
     "text": [
      "torch.Size([4, 5, 6])\n",
      "torch.Size([4, 5, 6])\n",
      "tensor([[[[-0.9682,  0.4120,  0.3709,  0.4564, -1.2574],\n",
      "          [-1.6235, -0.8163, -0.8044,  0.3685,  1.0952],\n",
      "          [-0.9350,  0.6411,  0.5927, -0.5144, -0.0231],\n",
      "          [-0.3909, -1.2895,  0.1950, -1.3824, -1.8653]],\n",
      "\n",
      "         [[ 1.8856,  0.3664,  0.4145,  0.5331, -0.5455],\n",
      "          [-1.4024,  0.3732,  1.1536,  0.8306, -2.3262],\n",
      "          [ 1.7669, -0.0144,  0.0272, -0.8478,  1.2756],\n",
      "          [ 0.6431,  1.6706, -1.6543, -1.4262, -0.9112]],\n",
      "\n",
      "         [[-0.2127, -1.1942,  2.3389, -0.7540, -0.3655],\n",
      "          [ 1.1844,  1.6505,  1.4915, -0.5695,  2.8064],\n",
      "          [-1.2232,  1.3357,  0.7502, -1.9773,  0.1636],\n",
      "          [ 0.9495,  1.1659, -1.8513, -1.2656,  0.1380]]],\n",
      "\n",
      "\n",
      "        [[[ 0.5067, -0.7932,  1.9580, -0.7146,  0.2881],\n",
      "          [ 0.5589, -0.2420, -0.5494,  0.9025, -0.6907],\n",
      "          [ 0.2228,  1.4324,  1.4182, -0.4558, -0.2870],\n",
      "          [ 1.5671,  0.1724,  1.7708, -1.4409,  0.0828]],\n",
      "\n",
      "         [[-0.6172, -1.7653,  1.2328,  0.1980,  0.2198],\n",
      "          [ 1.2435, -0.4104, -1.2399,  0.8058, -0.0193],\n",
      "          [-0.1570,  1.3365,  1.1050, -0.8086, -0.2435],\n",
      "          [-0.5198,  1.6855,  0.4811, -0.3842, -0.6199]],\n",
      "\n",
      "         [[ 0.7524,  1.0065, -0.0483, -0.2463,  0.4714],\n",
      "          [ 0.2153,  0.8657, -1.5222, -0.9179,  1.0093],\n",
      "          [-0.1052,  0.2213,  1.2332, -0.9742,  2.0250],\n",
      "          [ 0.4332, -1.3365, -1.7852, -0.6011,  0.4864]]]])\n",
      "torch.Size([2, 3, 4, 5])\n",
      "torch.Size([3, 4, 6])\n",
      "torch.Size([3, 4, 6])\n"
     ]
    }
   ],
   "source": [
    "x = torch.randn(2, 3, 4, 5, 6)\n",
    "print(x[1, 2,:, :, :].shape)\n",
    "print(x[1, 2,...].shape)\n",
    "print(x[:,:,:,:,3])\n",
    "print(x[...,3].shape)\n",
    "print(x[1, :, :, 3, :].shape)\n",
    "print(x[1, ...,3,:].shape)"
   ]
  },
  {
   "cell_type": "code",
   "execution_count": 78,
   "id": "2a351678",
   "metadata": {},
   "outputs": [
    {
     "name": "stdout",
     "output_type": "stream",
     "text": [
      "tensor([[1., 1., 1., 1.],\n",
      "        [1., 1., 1., 1.],\n",
      "        [1., 1., 1., 1.],\n",
      "        [0., 0., 0., 0.],\n",
      "        [0., 0., 0., 0.],\n",
      "        [0., 0., 0., 0.]])\n",
      "tensor([[1., 1., 1., 1., 0., 0., 0., 0.],\n",
      "        [1., 1., 1., 1., 0., 0., 0., 0.],\n",
      "        [1., 1., 1., 1., 0., 0., 0., 0.]])\n",
      "tensor([[1., 1., 1., 1.],\n",
      "        [1., 1., 1., 1.],\n",
      "        [1., 1., 1., 1.],\n",
      "        [0., 0., 0., 0.],\n",
      "        [0., 0., 0., 0.],\n",
      "        [0., 0., 0., 0.]])\n",
      "tensor([[1., 1., 1., 1., 0., 0., 0., 0.],\n",
      "        [1., 1., 1., 1., 0., 0., 0., 0.],\n",
      "        [1., 1., 1., 1., 0., 0., 0., 0.]])\n"
     ]
    }
   ],
   "source": [
    "A = torch.ones(3, 4)\n",
    "B = torch.zeros(3, 4)\n",
    "C = torch.vstack([A, B])\n",
    "D = torch.hstack([A, B]) # v는 0번째 차원, h는 1번째 차원\n",
    "E = torch.cat([A, B], dim=0)\n",
    "F = torch.cat([A, B], dim=1)\n",
    "\n",
    "print(C)\n",
    "print(D)\n",
    "print(E)\n",
    "print(F)"
   ]
  },
  {
   "cell_type": "code",
   "execution_count": 85,
   "id": "b6a7345a",
   "metadata": {},
   "outputs": [
    {
     "name": "stdout",
     "output_type": "stream",
     "text": [
      "torch.Size([1, 1, 1, 3, 1, 1, 1, 4, 1, 1, 1])\n",
      "torch.Size([3, 4])\n",
      "torch.Size([1, 3, 1, 4, 1, 1, 1])\n"
     ]
    }
   ],
   "source": [
    "A = torch.randn(1,1,1,3,1,1,1,4,1,1,1)\n",
    "\n",
    "print(A.shape)\n",
    "print(A.squeeze().shape)\n",
    "print(A.squeeze(dim=(0, 2, 4, 5)).shape)"
   ]
  },
  {
   "cell_type": "code",
   "execution_count": 88,
   "id": "faed1b06",
   "metadata": {},
   "outputs": [
    {
     "name": "stdout",
     "output_type": "stream",
     "text": [
      "torch.Size([1, 3, 4])\n",
      "torch.Size([3, 1, 4])\n",
      "torch.Size([3, 4, 1])\n",
      "torch.Size([1, 3, 4])\n",
      "torch.Size([3, 1, 4])\n",
      "torch.Size([3, 4, 1])\n"
     ]
    }
   ],
   "source": [
    "A = torch.randn(3, 4)\n",
    "print(A.unsqueeze(dim=0).shape)\n",
    "print(A.unsqueeze(dim=1).shape)\n",
    "print(A.unsqueeze(dim=2).shape)\n",
    "print(A.reshape(1,3,4).shape)\n",
    "print(A.reshape(3,1,4).shape)\n",
    "print(A.reshape(3,4,1).shape)"
   ]
  },
  {
   "cell_type": "code",
   "execution_count": 89,
   "id": "3985e324",
   "metadata": {},
   "outputs": [
    {
     "name": "stdout",
     "output_type": "stream",
     "text": [
      "tensor([[[1., 1., 1., 1.],\n",
      "         [1., 1., 1., 1.],\n",
      "         [1., 1., 1., 1.]],\n",
      "\n",
      "        [[0., 0., 0., 0.],\n",
      "         [0., 0., 0., 0.],\n",
      "         [0., 0., 0., 0.]]])\n",
      "torch.Size([2, 3, 4])\n"
     ]
    }
   ],
   "source": [
    "A = torch.ones(3, 4)\n",
    "B = torch.zeros(3, 4)\n",
    "A = A.unsqueeze(dim = 0)\n",
    "B = B.unsqueeze(dim = 0)\n",
    "C = torch.cat([A, B], dim=0)\n",
    "print(C)\n",
    "print(C.shape)"
   ]
  },
  {
   "cell_type": "code",
   "execution_count": null,
   "id": "e866cdc9",
   "metadata": {},
   "outputs": [
    {
     "name": "stdout",
     "output_type": "stream",
     "text": [
      "tensor([[[1., 1., 1., 1.],\n",
      "         [1., 1., 1., 1.],\n",
      "         [1., 1., 1., 1.]],\n",
      "\n",
      "        [[0., 0., 0., 0.],\n",
      "         [0., 0., 0., 0.],\n",
      "         [0., 0., 0., 0.]]])\n"
     ]
    }
   ],
   "source": [
    "A = torch.ones(3,4)\n",
    "B = torch.zeros(3,4)\n",
    "C = torch.stack([A, B])  # 차원을 추가해서 쌓음, * shape이 완전히 일치해야함\n",
    "print(C)"
   ]
  },
  {
   "cell_type": "code",
   "execution_count": 92,
   "id": "f531b915",
   "metadata": {},
   "outputs": [
    {
     "name": "stdout",
     "output_type": "stream",
     "text": [
      "tensor([[100,   2],\n",
      "        [  3,   4]])\n",
      "tensor([[1, 2],\n",
      "        [3, 4]])\n"
     ]
    }
   ],
   "source": [
    "A = torch.tensor([[1, 2], [3, 4]])\n",
    "# B = A # 주소까지 복사\n",
    "B = A.clone()\n",
    "B[0, 0] = 100\n",
    "\n",
    "print(B)\n",
    "print(A)"
   ]
  },
  {
   "cell_type": "code",
   "execution_count": 93,
   "id": "cad2ac69",
   "metadata": {},
   "outputs": [
    {
     "name": "stdout",
     "output_type": "stream",
     "text": [
      "torch.Size([5, 10])\n",
      "torch.Size([32, 5, 10])\n"
     ]
    }
   ],
   "source": [
    "A = torch.randn(5, 7)\n",
    "B = torch.randn(7, 10)\n",
    "C = A @ B\n",
    "print(C.shape)\n",
    "\n",
    "A = torch.randn(32, 5, 7)\n",
    "B = torch.randn(32, 7, 10)\n",
    "C =  A @ B\n",
    "print(C.shape)"
   ]
  },
  {
   "cell_type": "code",
   "execution_count": 94,
   "id": "45cf5154",
   "metadata": {},
   "outputs": [
    {
     "name": "stdout",
     "output_type": "stream",
     "text": [
      "torch.Size([32, 5, 10])\n"
     ]
    }
   ],
   "source": [
    "A = torch.randn(32, 5, 7)\n",
    "B = torch.randn(7, 10)\n",
    "\n",
    "C = A @ B\n",
    "print(C.shape)"
   ]
  },
  {
   "cell_type": "code",
   "execution_count": null,
   "id": "a69b1aff",
   "metadata": {},
   "outputs": [
    {
     "name": "stdout",
     "output_type": "stream",
     "text": [
      "<class 'torch.Tensor'>\n",
      "<class 'numpy.ndarray'>\n"
     ]
    }
   ],
   "source": [
    "import numpy as np\n",
    "\n",
    "a = np.array([1, 2, 3])\n",
    "b = torch.tensor([1, 2, 3])\n",
    "A = torch.tensor(a) # A = torch.from_numpy(a)\n",
    "B = b.numpy() # B = np.array(b)\n",
    "print(type(A))\n",
    "print(type(B))"
   ]
  }
 ],
 "metadata": {
  "kernelspec": {
   "display_name": "Python 3",
   "language": "python",
   "name": "python3"
  },
  "language_info": {
   "codemirror_mode": {
    "name": "ipython",
    "version": 3
   },
   "file_extension": ".py",
   "mimetype": "text/x-python",
   "name": "python",
   "nbconvert_exporter": "python",
   "pygments_lexer": "ipython3",
   "version": "3.12.6"
  }
 },
 "nbformat": 4,
 "nbformat_minor": 5
}
