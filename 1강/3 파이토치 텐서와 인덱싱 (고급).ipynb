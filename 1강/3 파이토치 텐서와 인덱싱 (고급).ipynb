{
 "cells": [
  {
   "cell_type": "code",
   "execution_count": 1,
   "id": "3ba0bc60",
   "metadata": {},
   "outputs": [],
   "source": [
    "import torch"
   ]
  },
  {
   "cell_type": "code",
   "execution_count": 3,
   "id": "3b32d820",
   "metadata": {},
   "outputs": [],
   "source": [
    "A = torch.tensor([[[0, 1, 2, 3], [4, 5, 6, 7], [8, 9, 10, 11]],\n",
    "                 [[12, 13, 14, 15], [16, 17, 18, 19], [20, 21, 22, 23]]])"
   ]
  },
  {
   "cell_type": "code",
   "execution_count": 4,
   "id": "70ff87dd",
   "metadata": {},
   "outputs": [
    {
     "name": "stdout",
     "output_type": "stream",
     "text": [
      "tensor([[[ 0,  1,  2,  3],\n",
      "         [ 4,  5,  6,  7],\n",
      "         [ 8,  9, 10, 11]],\n",
      "\n",
      "        [[12, 13, 14, 15],\n",
      "         [16, 17, 18, 19],\n",
      "         [20, 21, 22, 23]]])\n"
     ]
    },
    {
     "data": {
      "text/plain": [
       "tensor([ 3, 19, 22,  5])"
      ]
     },
     "execution_count": 4,
     "metadata": {},
     "output_type": "execute_result"
    }
   ],
   "source": [
    "# 리스트로 인덱싱\n",
    "print(A)\n",
    "A[[0, 1, 1, 0], [0, 1, 2, 1], [3, 3, 2, 1]]"
   ]
  },
  {
   "cell_type": "code",
   "execution_count": null,
   "id": "9c60d0a5",
   "metadata": {},
   "outputs": [
    {
     "name": "stdout",
     "output_type": "stream",
     "text": [
      "False\n"
     ]
    }
   ],
   "source": [
    "# boolean 인덱싱\n",
    "a = [1, 2, 3, 4, 5, 3, 3]\n",
    "print(a == 3) # 리스트와 3이 같냐?"
   ]
  },
  {
   "cell_type": "code",
   "execution_count": 8,
   "id": "36572555",
   "metadata": {},
   "outputs": [
    {
     "name": "stdout",
     "output_type": "stream",
     "text": [
      "tensor([[False, False, False,  True],\n",
      "        [ True, False,  True, False]])\n",
      "tensor([4, 5, 7])\n"
     ]
    }
   ],
   "source": [
    "A = torch.tensor([[1, 2, 3, 4], [5, 3, 7, 3]])\n",
    "print(A > 3) # 리스트와 달리 성분마다 비교\n",
    "print(A[A > 3]) # boolean이 담긴 행렬로 인덱싱 가능"
   ]
  },
  {
   "cell_type": "code",
   "execution_count": 9,
   "id": "79f9a361",
   "metadata": {},
   "outputs": [
    {
     "name": "stdout",
     "output_type": "stream",
     "text": [
      "tensor([[  1,   2,   3, 100],\n",
      "        [100,   3, 100,   3]])\n"
     ]
    }
   ],
   "source": [
    "A[A > 3] = 100\n",
    "print(A)"
   ]
  },
  {
   "cell_type": "code",
   "execution_count": 11,
   "id": "6427db9a",
   "metadata": {},
   "outputs": [
    {
     "name": "stdout",
     "output_type": "stream",
     "text": [
      "tensor([[1, 2],\n",
      "        [7, 8]])\n"
     ]
    }
   ],
   "source": [
    "A = torch.tensor([[1, 2], [3, 4], [5, 6], [7, 8]])\n",
    "B = torch.tensor([True, False, False, True]) # 리스트도 가능\n",
    "print(A[B, :])"
   ]
  },
  {
   "cell_type": "code",
   "execution_count": 13,
   "id": "690f6c21",
   "metadata": {},
   "outputs": [
    {
     "name": "stdout",
     "output_type": "stream",
     "text": [
      "tensor([1, 2])\n"
     ]
    }
   ],
   "source": [
    "b = torch.tensor([1, 2, 3, 4])\n",
    "print(b[[True, True, False, False]])"
   ]
  },
  {
   "cell_type": "code",
   "execution_count": 19,
   "id": "a829c715",
   "metadata": {},
   "outputs": [
    {
     "name": "stdout",
     "output_type": "stream",
     "text": [
      "tensor(3)\n",
      "tensor(3)\n",
      "tensor([3, 4, 5])\n",
      "tensor([[3, 3, 3],\n",
      "        [4, 4, 4]])\n"
     ]
    }
   ],
   "source": [
    "# tensor로 인덱싱\n",
    "a = torch.tensor([1, 2, 3, 4, 5])\n",
    "A = a[2]\n",
    "print(A)\n",
    "\n",
    "A = a[torch.tensor(2)]\n",
    "print(A)\n",
    "\n",
    "A = a[torch.tensor([2, 3, 4])]\n",
    "print(A)\n",
    "\n",
    "A = a[torch.tensor([[2, 2, 2], [3, 3, 3]])] # 인덱싱된 것들로 2행 3열짜리 행렬을 만듦\n",
    "print(A)"
   ]
  },
  {
   "cell_type": "code",
   "execution_count": 23,
   "id": "eb8c3934",
   "metadata": {},
   "outputs": [
    {
     "name": "stdout",
     "output_type": "stream",
     "text": [
      "tensor([1, 2, 3])\n",
      "torch.Size([2, 2, 3])\n",
      "tensor([[[1, 2, 3],\n",
      "         [4, 5, 6]],\n",
      "\n",
      "        [[4, 5, 6],\n",
      "         [4, 5, 6]]])\n"
     ]
    }
   ],
   "source": [
    "a = torch.tensor([[1, 2, 3], [4, 5, 6]])\n",
    "print(a[torch.tensor(0)])\n",
    "\n",
    "A = a[torch.tensor([[0, 1], [1, 1]])]\n",
    "print(A.shape)\n",
    "print(A)"
   ]
  },
  {
   "cell_type": "code",
   "execution_count": 61,
   "id": "f9466a1f",
   "metadata": {},
   "outputs": [
    {
     "data": {
      "image/png": "[encoded data removed]",
      "text/plain": [
       "<Figure size 640x480 with 1 Axes>"
      ]
     },
     "metadata": {},
     "output_type": "display_data"
    }
   ],
   "source": [
    "import matplotlib.pyplot as plt\n",
    "# segmentation 결과 그림 보여줄때 사용될 수 있음\n",
    "b = torch.tensor([[255, 255, 0], [0, 255, 0], [0, 0, 255], [255, 0, 255], [70, 80, 75], [0, 0 ,4 ], [60, 100, 255]])\n",
    "\n",
    "plt.imshow(b[torch.tensor([[0, 2], [1, 1]])])\n",
    "plt.show()"
   ]
  },
  {
   "cell_type": "code",
   "execution_count": null,
   "id": "16c43893",
   "metadata": {},
   "outputs": [
    {
     "data": {
      "text/plain": [
       "tensor([[[1, 2, 3],\n",
       "         [4, 5, 6]],\n",
       "\n",
       "        [[4, 5, 6],\n",
       "         [4, 5, 6]]])"
      ]
     },
     "execution_count": 43,
     "metadata": {},
     "output_type": "execute_result"
    }
   ],
   "source": [
    "a = torch.tensor([[1, 2, 3], [4, 5, 6]])\n",
    "\n",
    "A = a[torch.tensor([[0, 1], [1, 1]])]\n",
    "A"
   ]
  },
  {
   "cell_type": "code",
   "execution_count": null,
   "id": "6c96d91e",
   "metadata": {},
   "outputs": [
    {
     "data": {
      "text/plain": [
       "tensor([[[1, 2, 3],\n",
       "         [4, 5, 6]],\n",
       "\n",
       "        [[4, 5, 6],\n",
       "         [4, 5, 6]]])"
      ]
     },
     "execution_count": 60,
     "metadata": {},
     "output_type": "execute_result"
    }
   ],
   "source": [
    "B = a[ [[[0, 0, 0], [1, 1, 1]], [[1, 1, 1], [1, 1, 1]]], [[[0, 1, 2], [0, 1, 2]]  ,[[0, 1, 2], [0, 1, 2]] ]]\n",
    "B "
   ]
  },
  {
   "cell_type": "markdown",
   "id": "18799b03",
   "metadata": {},
   "source": [
    "최종정리"
   ]
  },
  {
   "cell_type": "code",
   "execution_count": 70,
   "id": "7204234c",
   "metadata": {},
   "outputs": [
    {
     "name": "stdout",
     "output_type": "stream",
     "text": [
      "tensor(2)\n",
      "tensor([2, 6, 7, 3, 5])\n",
      "tensor([[1, 2],\n",
      "        [8, 3]])\n",
      "tensor([2, 6, 2, 8])\n",
      "tensor([2, 2])\n",
      "tensor([2, 6])\n",
      "tensor([[3, 4, 7],\n",
      "        [3, 4, 7],\n",
      "        [5, 6, 2],\n",
      "        [5, 6, 2],\n",
      "        [5, 6, 2]])\n"
     ]
    }
   ],
   "source": [
    "A = torch.tensor([[1, 2, 6], [3, 4, 7], [5, 6, 2], [7, 8, 9]])\n",
    "\n",
    "# 1. 기본 인덱싱\n",
    "print(A[0, 1])\n",
    "\n",
    "# 2. 리스트 인덱싱\n",
    "print(A[[0, 2, 3, 1, 2], [1, 1, 0, 0, 0]])\n",
    "print(A[[[0, 2], [3, 1]], [[0, 2], [1, 0]]])\n",
    "\n",
    "# 3. boolean 인덱싱\n",
    "print(A[torch.tensor([[False, True, True], [False, False, False], [False, False, True], [False, True, False]])])\n",
    "print(A[A==2])\n",
    "\n",
    "# 4. 행, 열에 따로 boolean 인덱싱\n",
    "print(A[[True, False, False, False], [False, True, True]])\n",
    "\n",
    "# 5. tensor 인덱싱\n",
    "print(A[torch.tensor([1, 1, 2, 2, 2])])\n"
   ]
  }
 ],
 "metadata": {
  "kernelspec": {
   "display_name": "Python 3",
   "language": "python",
   "name": "python3"
  },
  "language_info": {
   "codemirror_mode": {
    "name": "ipython",
    "version": 3
   },
   "file_extension": ".py",
   "mimetype": "text/x-python",
   "name": "python",
   "nbconvert_exporter": "python",
   "pygments_lexer": "ipython3",
   "version": "3.12.6"
  }
 },
 "nbformat": 4,
 "nbformat_minor": 5
}
